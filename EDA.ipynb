{
 "cells": [
  {
   "cell_type": "code",
   "execution_count": 1,
   "metadata": {},
   "outputs": [],
   "source": [
    "import pandas as pd\n",
    "import numpy as np\n",
    "import seaborn as sns\n",
    "import matplotlib.pyplot as plt\n",
    "from sklearn.preprocessing import OneHotEncoder, MinMaxScaler\n",
    "from sklearn.linear_model import LogisticRegression\n",
    "from sklearn.svm import SVC\n",
    "from sklearn.utils import resample\n",
    "from sklearn.metrics import confusion_matrix, roc_auc_score, precision_recall_fscore_support as score\n",
    "from sklearn.feature_selection import SelectKBest, mutual_info_classif\n",
    "from sklearn.model_selection import GridSearchCV\n",
    "from catboost import CatBoostClassifier"
   ]
  },
  {
   "cell_type": "code",
   "execution_count": 2,
   "metadata": {},
   "outputs": [],
   "source": [
    "raw_data = pd.read_csv('data/data_science_assignment_data.csv')"
   ]
  },
  {
   "cell_type": "code",
   "execution_count": 3,
   "metadata": {},
   "outputs": [
    {
     "data": {
      "text/html": [
       "<div>\n",
       "<style scoped>\n",
       "    .dataframe tbody tr th:only-of-type {\n",
       "        vertical-align: middle;\n",
       "    }\n",
       "\n",
       "    .dataframe tbody tr th {\n",
       "        vertical-align: top;\n",
       "    }\n",
       "\n",
       "    .dataframe thead th {\n",
       "        text-align: right;\n",
       "    }\n",
       "</style>\n",
       "<table border=\"1\" class=\"dataframe\">\n",
       "  <thead>\n",
       "    <tr style=\"text-align: right;\">\n",
       "      <th></th>\n",
       "      <th>date</th>\n",
       "      <th>numeric0</th>\n",
       "      <th>numeric1</th>\n",
       "      <th>categorical0</th>\n",
       "      <th>time</th>\n",
       "      <th>target</th>\n",
       "    </tr>\n",
       "  </thead>\n",
       "  <tbody>\n",
       "    <tr>\n",
       "      <th>0</th>\n",
       "      <td>2015-11-24</td>\n",
       "      <td>2515</td>\n",
       "      <td>2.0</td>\n",
       "      <td>c</td>\n",
       "      <td>01:33:52</td>\n",
       "      <td>0</td>\n",
       "    </tr>\n",
       "    <tr>\n",
       "      <th>1</th>\n",
       "      <td>2009-03-05</td>\n",
       "      <td>5156</td>\n",
       "      <td>NaN</td>\n",
       "      <td>b</td>\n",
       "      <td>20:09:27</td>\n",
       "      <td>0</td>\n",
       "    </tr>\n",
       "    <tr>\n",
       "      <th>2</th>\n",
       "      <td>2015-12-23</td>\n",
       "      <td>5930</td>\n",
       "      <td>NaN</td>\n",
       "      <td>b</td>\n",
       "      <td>11:22:35</td>\n",
       "      <td>0</td>\n",
       "    </tr>\n",
       "    <tr>\n",
       "      <th>3</th>\n",
       "      <td>1992-02-16</td>\n",
       "      <td>2967</td>\n",
       "      <td>NaN</td>\n",
       "      <td>b</td>\n",
       "      <td>19:18:36</td>\n",
       "      <td>0</td>\n",
       "    </tr>\n",
       "    <tr>\n",
       "      <th>4</th>\n",
       "      <td>1971-06-06</td>\n",
       "      <td>194</td>\n",
       "      <td>5.0</td>\n",
       "      <td>c</td>\n",
       "      <td>20:01:58</td>\n",
       "      <td>0</td>\n",
       "    </tr>\n",
       "  </tbody>\n",
       "</table>\n",
       "</div>"
      ],
      "text/plain": [
       "         date  numeric0  numeric1 categorical0      time  target\n",
       "0  2015-11-24      2515       2.0            c  01:33:52       0\n",
       "1  2009-03-05      5156       NaN            b  20:09:27       0\n",
       "2  2015-12-23      5930       NaN            b  11:22:35       0\n",
       "3  1992-02-16      2967       NaN            b  19:18:36       0\n",
       "4  1971-06-06       194       5.0            c  20:01:58       0"
      ]
     },
     "execution_count": 3,
     "metadata": {},
     "output_type": "execute_result"
    }
   ],
   "source": [
    "raw_data.head()"
   ]
  },
  {
   "cell_type": "code",
   "execution_count": 4,
   "metadata": {},
   "outputs": [
    {
     "data": {
      "text/plain": [
       "date             object\n",
       "numeric0          int64\n",
       "numeric1        float64\n",
       "categorical0     object\n",
       "time             object\n",
       "target            int64\n",
       "dtype: object"
      ]
     },
     "execution_count": 4,
     "metadata": {},
     "output_type": "execute_result"
    }
   ],
   "source": [
    "raw_data.dtypes"
   ]
  },
  {
   "cell_type": "code",
   "execution_count": 5,
   "metadata": {},
   "outputs": [
    {
     "name": "stdout",
     "output_type": "stream",
     "text": [
      "Number of samples is 10000\n"
     ]
    }
   ],
   "source": [
    "print(f\"Number of samples is {raw_data.shape[0]}\")"
   ]
  },
  {
   "cell_type": "markdown",
   "metadata": {},
   "source": [
    "# General approach to modeling\n",
    "\n",
    "1. Cleaning data (duplicates, missing values, etc.)\n",
    "2. Basic features extraction\n",
    "3. Baseline model\n",
    "4. Deeper data analysis\n",
    "5. Attempting to beat baseline model"
   ]
  },
  {
   "cell_type": "markdown",
   "metadata": {},
   "source": [
    "## 1. Cleaning data"
   ]
  },
  {
   "cell_type": "code",
   "execution_count": 6,
   "metadata": {},
   "outputs": [],
   "source": [
    "raw_data['date'] = pd.to_datetime(raw_data['date'])\n",
    "raw_data.date + pd.to_timedelta(raw_data.time)\n",
    "raw_data.sort_values('date', inplace=True)\n",
    "raw_data.reset_index(drop=True, inplace=True)"
   ]
  },
  {
   "cell_type": "code",
   "execution_count": 7,
   "metadata": {},
   "outputs": [
    {
     "data": {
      "text/html": [
       "<div>\n",
       "<style scoped>\n",
       "    .dataframe tbody tr th:only-of-type {\n",
       "        vertical-align: middle;\n",
       "    }\n",
       "\n",
       "    .dataframe tbody tr th {\n",
       "        vertical-align: top;\n",
       "    }\n",
       "\n",
       "    .dataframe thead th {\n",
       "        text-align: right;\n",
       "    }\n",
       "</style>\n",
       "<table border=\"1\" class=\"dataframe\">\n",
       "  <thead>\n",
       "    <tr style=\"text-align: right;\">\n",
       "      <th></th>\n",
       "      <th>date</th>\n",
       "      <th>numeric0</th>\n",
       "      <th>numeric1</th>\n",
       "      <th>categorical0</th>\n",
       "      <th>time</th>\n",
       "      <th>target</th>\n",
       "    </tr>\n",
       "  </thead>\n",
       "  <tbody>\n",
       "    <tr>\n",
       "      <th>0</th>\n",
       "      <td>1970-01-01</td>\n",
       "      <td>7382</td>\n",
       "      <td>NaN</td>\n",
       "      <td>c</td>\n",
       "      <td>13:13:57</td>\n",
       "      <td>0</td>\n",
       "    </tr>\n",
       "    <tr>\n",
       "      <th>1</th>\n",
       "      <td>1970-01-02</td>\n",
       "      <td>192</td>\n",
       "      <td>6.0</td>\n",
       "      <td>b</td>\n",
       "      <td>23:37:45</td>\n",
       "      <td>0</td>\n",
       "    </tr>\n",
       "    <tr>\n",
       "      <th>2</th>\n",
       "      <td>1970-01-05</td>\n",
       "      <td>4291</td>\n",
       "      <td>NaN</td>\n",
       "      <td>b</td>\n",
       "      <td>22:39:45</td>\n",
       "      <td>0</td>\n",
       "    </tr>\n",
       "    <tr>\n",
       "      <th>3</th>\n",
       "      <td>1970-01-06</td>\n",
       "      <td>9735</td>\n",
       "      <td>NaN</td>\n",
       "      <td>c</td>\n",
       "      <td>22:57:37</td>\n",
       "      <td>0</td>\n",
       "    </tr>\n",
       "    <tr>\n",
       "      <th>4</th>\n",
       "      <td>1970-01-06</td>\n",
       "      <td>4226</td>\n",
       "      <td>5.0</td>\n",
       "      <td>a</td>\n",
       "      <td>02:13:50</td>\n",
       "      <td>0</td>\n",
       "    </tr>\n",
       "    <tr>\n",
       "      <th>5</th>\n",
       "      <td>1970-01-08</td>\n",
       "      <td>5560</td>\n",
       "      <td>NaN</td>\n",
       "      <td>a</td>\n",
       "      <td>02:15:10</td>\n",
       "      <td>0</td>\n",
       "    </tr>\n",
       "    <tr>\n",
       "      <th>6</th>\n",
       "      <td>1970-01-10</td>\n",
       "      <td>4821</td>\n",
       "      <td>1.0</td>\n",
       "      <td>a</td>\n",
       "      <td>16:56:20</td>\n",
       "      <td>1</td>\n",
       "    </tr>\n",
       "    <tr>\n",
       "      <th>7</th>\n",
       "      <td>1970-01-12</td>\n",
       "      <td>762</td>\n",
       "      <td>7.0</td>\n",
       "      <td>b</td>\n",
       "      <td>11:14:22</td>\n",
       "      <td>1</td>\n",
       "    </tr>\n",
       "    <tr>\n",
       "      <th>8</th>\n",
       "      <td>1970-01-14</td>\n",
       "      <td>3942</td>\n",
       "      <td>6.0</td>\n",
       "      <td>a</td>\n",
       "      <td>12:40:03</td>\n",
       "      <td>0</td>\n",
       "    </tr>\n",
       "    <tr>\n",
       "      <th>9</th>\n",
       "      <td>1970-01-19</td>\n",
       "      <td>8473</td>\n",
       "      <td>7.0</td>\n",
       "      <td>a</td>\n",
       "      <td>11:20:20</td>\n",
       "      <td>1</td>\n",
       "    </tr>\n",
       "  </tbody>\n",
       "</table>\n",
       "</div>"
      ],
      "text/plain": [
       "        date  numeric0  numeric1 categorical0      time  target\n",
       "0 1970-01-01      7382       NaN            c  13:13:57       0\n",
       "1 1970-01-02       192       6.0            b  23:37:45       0\n",
       "2 1970-01-05      4291       NaN            b  22:39:45       0\n",
       "3 1970-01-06      9735       NaN            c  22:57:37       0\n",
       "4 1970-01-06      4226       5.0            a  02:13:50       0\n",
       "5 1970-01-08      5560       NaN            a  02:15:10       0\n",
       "6 1970-01-10      4821       1.0            a  16:56:20       1\n",
       "7 1970-01-12       762       7.0            b  11:14:22       1\n",
       "8 1970-01-14      3942       6.0            a  12:40:03       0\n",
       "9 1970-01-19      8473       7.0            a  11:20:20       1"
      ]
     },
     "execution_count": 7,
     "metadata": {},
     "output_type": "execute_result"
    }
   ],
   "source": [
    "raw_data.head(10)"
   ]
  },
  {
   "cell_type": "markdown",
   "metadata": {},
   "source": [
    "It seems that our data consists of time-series part. Let's check how sparse is time-series"
   ]
  },
  {
   "cell_type": "code",
   "execution_count": 8,
   "metadata": {},
   "outputs": [],
   "source": [
    "whole_dt_range = pd.date_range(start=str(raw_data.date.min().date()), end=str(raw_data.date.max().date()))\n",
    "unique_dates = raw_data.date.unique()"
   ]
  },
  {
   "cell_type": "code",
   "execution_count": 9,
   "metadata": {},
   "outputs": [
    {
     "name": "stdout",
     "output_type": "stream",
     "text": [
      "Complete time-series consists of 18133 dates. Our data has 7664 samples\n"
     ]
    }
   ],
   "source": [
    "print(f\"Complete time-series consists of {len(whole_dt_range)} dates. Our data has {len(unique_dates)} samples\")"
   ]
  },
  {
   "cell_type": "markdown",
   "metadata": {},
   "source": [
    "Our data is too sparse for time-series modelling approach. But we should consider this time-series component in validation and feature engineering"
   ]
  },
  {
   "cell_type": "code",
   "execution_count": 10,
   "metadata": {},
   "outputs": [
    {
     "data": {
      "text/plain": [
       "date            0.0000\n",
       "numeric0        0.0000\n",
       "numeric1        0.4917\n",
       "categorical0    0.0000\n",
       "time            0.0000\n",
       "target          0.0000\n",
       "dtype: float64"
      ]
     },
     "execution_count": 10,
     "metadata": {},
     "output_type": "execute_result"
    }
   ],
   "source": [
    "raw_data.isnull().sum() / raw_data.shape[0]"
   ]
  },
  {
   "cell_type": "markdown",
   "metadata": {},
   "source": [
    "Near half of our observations are having missing value for 'numeric1' column. <br> Let's look at this feature values"
   ]
  },
  {
   "cell_type": "code",
   "execution_count": 11,
   "metadata": {},
   "outputs": [
    {
     "data": {
      "text/plain": [
       "array([nan,  6.,  5.,  1.,  7.,  8.,  3.,  0.,  9.,  2.,  4.])"
      ]
     },
     "execution_count": 11,
     "metadata": {},
     "output_type": "execute_result"
    }
   ],
   "source": [
    "raw_data.numeric1.unique()"
   ]
  },
  {
   "cell_type": "code",
   "execution_count": 12,
   "metadata": {},
   "outputs": [
    {
     "data": {
      "image/png": "[encoded data removed]",
      "text/plain": [
       "<Figure size 800x400 with 1 Axes>"
      ]
     },
     "metadata": {},
     "output_type": "display_data"
    }
   ],
   "source": [
    "plt.figure(figsize=(8,4))\n",
    "sns.countplot(x='numeric1',data=raw_data, palette='rainbow',hue='target')\n",
    "plt.title(\"Target distribution over numeric1 values\")\n",
    "plt.show()"
   ]
  },
  {
   "cell_type": "code",
   "execution_count": 13,
   "metadata": {},
   "outputs": [],
   "source": [
    "_tmp = raw_data.copy()\n",
    "_tmp['numeric1'] = _tmp.numeric1.astype(str).fillna('NaN') \n",
    "_tmp1 = _tmp.groupby(['numeric1', 'target'])[['date']].count().reset_index().rename(columns={'date': 'cnt_target'})\n",
    "_tmp2 = _tmp.groupby(['numeric1'])[['date']].count().reset_index().rename(columns={'date': 'cnt_numeric1'})\n",
    "_merged = pd.merge(_tmp1, _tmp2, how='left', on='numeric1')\n",
    "_merged['percentage'] = _merged['cnt_target'] / _merged['cnt_numeric1']\n",
    "_merged.drop(['cnt_target', 'cnt_numeric1'], axis=1, inplace=True)\n",
    "_merged.set_index(['numeric1', 'target'], inplace=True)"
   ]
  },
  {
   "cell_type": "code",
   "execution_count": 14,
   "metadata": {},
   "outputs": [
    {
     "data": {
      "text/html": [
       "<div>\n",
       "<style scoped>\n",
       "    .dataframe tbody tr th:only-of-type {\n",
       "        vertical-align: middle;\n",
       "    }\n",
       "\n",
       "    .dataframe tbody tr th {\n",
       "        vertical-align: top;\n",
       "    }\n",
       "\n",
       "    .dataframe thead th {\n",
       "        text-align: right;\n",
       "    }\n",
       "</style>\n",
       "<table border=\"1\" class=\"dataframe\">\n",
       "  <thead>\n",
       "    <tr style=\"text-align: right;\">\n",
       "      <th></th>\n",
       "      <th></th>\n",
       "      <th>percentage</th>\n",
       "    </tr>\n",
       "    <tr>\n",
       "      <th>numeric1</th>\n",
       "      <th>target</th>\n",
       "      <th></th>\n",
       "    </tr>\n",
       "  </thead>\n",
       "  <tbody>\n",
       "    <tr>\n",
       "      <th rowspan=\"2\" valign=\"top\">0.0</th>\n",
       "      <th>0</th>\n",
       "      <td>0.876033</td>\n",
       "    </tr>\n",
       "    <tr>\n",
       "      <th>1</th>\n",
       "      <td>0.123967</td>\n",
       "    </tr>\n",
       "    <tr>\n",
       "      <th rowspan=\"2\" valign=\"top\">1.0</th>\n",
       "      <th>0</th>\n",
       "      <td>0.873967</td>\n",
       "    </tr>\n",
       "    <tr>\n",
       "      <th>1</th>\n",
       "      <td>0.126033</td>\n",
       "    </tr>\n",
       "    <tr>\n",
       "      <th rowspan=\"2\" valign=\"top\">2.0</th>\n",
       "      <th>0</th>\n",
       "      <td>0.865065</td>\n",
       "    </tr>\n",
       "    <tr>\n",
       "      <th>1</th>\n",
       "      <td>0.134935</td>\n",
       "    </tr>\n",
       "    <tr>\n",
       "      <th rowspan=\"2\" valign=\"top\">3.0</th>\n",
       "      <th>0</th>\n",
       "      <td>0.859184</td>\n",
       "    </tr>\n",
       "    <tr>\n",
       "      <th>1</th>\n",
       "      <td>0.140816</td>\n",
       "    </tr>\n",
       "    <tr>\n",
       "      <th rowspan=\"2\" valign=\"top\">4.0</th>\n",
       "      <th>0</th>\n",
       "      <td>0.839080</td>\n",
       "    </tr>\n",
       "    <tr>\n",
       "      <th>1</th>\n",
       "      <td>0.160920</td>\n",
       "    </tr>\n",
       "    <tr>\n",
       "      <th rowspan=\"2\" valign=\"top\">5.0</th>\n",
       "      <th>0</th>\n",
       "      <td>0.870155</td>\n",
       "    </tr>\n",
       "    <tr>\n",
       "      <th>1</th>\n",
       "      <td>0.129845</td>\n",
       "    </tr>\n",
       "    <tr>\n",
       "      <th rowspan=\"2\" valign=\"top\">6.0</th>\n",
       "      <th>0</th>\n",
       "      <td>0.868821</td>\n",
       "    </tr>\n",
       "    <tr>\n",
       "      <th>1</th>\n",
       "      <td>0.131179</td>\n",
       "    </tr>\n",
       "    <tr>\n",
       "      <th rowspan=\"2\" valign=\"top\">7.0</th>\n",
       "      <th>0</th>\n",
       "      <td>0.848291</td>\n",
       "    </tr>\n",
       "    <tr>\n",
       "      <th>1</th>\n",
       "      <td>0.151709</td>\n",
       "    </tr>\n",
       "    <tr>\n",
       "      <th rowspan=\"2\" valign=\"top\">8.0</th>\n",
       "      <th>0</th>\n",
       "      <td>0.876660</td>\n",
       "    </tr>\n",
       "    <tr>\n",
       "      <th>1</th>\n",
       "      <td>0.123340</td>\n",
       "    </tr>\n",
       "    <tr>\n",
       "      <th rowspan=\"2\" valign=\"top\">9.0</th>\n",
       "      <th>0</th>\n",
       "      <td>0.853333</td>\n",
       "    </tr>\n",
       "    <tr>\n",
       "      <th>1</th>\n",
       "      <td>0.146667</td>\n",
       "    </tr>\n",
       "    <tr>\n",
       "      <th rowspan=\"2\" valign=\"top\">nan</th>\n",
       "      <th>0</th>\n",
       "      <td>0.871060</td>\n",
       "    </tr>\n",
       "    <tr>\n",
       "      <th>1</th>\n",
       "      <td>0.128940</td>\n",
       "    </tr>\n",
       "  </tbody>\n",
       "</table>\n",
       "</div>"
      ],
      "text/plain": [
       "                 percentage\n",
       "numeric1 target            \n",
       "0.0      0         0.876033\n",
       "         1         0.123967\n",
       "1.0      0         0.873967\n",
       "         1         0.126033\n",
       "2.0      0         0.865065\n",
       "         1         0.134935\n",
       "3.0      0         0.859184\n",
       "         1         0.140816\n",
       "4.0      0         0.839080\n",
       "         1         0.160920\n",
       "5.0      0         0.870155\n",
       "         1         0.129845\n",
       "6.0      0         0.868821\n",
       "         1         0.131179\n",
       "7.0      0         0.848291\n",
       "         1         0.151709\n",
       "8.0      0         0.876660\n",
       "         1         0.123340\n",
       "9.0      0         0.853333\n",
       "         1         0.146667\n",
       "nan      0         0.871060\n",
       "         1         0.128940"
      ]
     },
     "execution_count": 14,
     "metadata": {},
     "output_type": "execute_result"
    }
   ],
   "source": [
    "_merged"
   ]
  },
  {
   "cell_type": "markdown",
   "metadata": {},
   "source": [
    "We can see that 'numeric1' column is categorical feature. Distributions of 'target' values are quite the same among all categories. We can treat missing values with new category - 'nan'"
   ]
  },
  {
   "cell_type": "code",
   "execution_count": 15,
   "metadata": {},
   "outputs": [],
   "source": [
    "raw_data['numeric1'] = raw_data.numeric1.astype(str).fillna('NaN')"
   ]
  },
  {
   "cell_type": "code",
   "execution_count": 16,
   "metadata": {},
   "outputs": [
    {
     "data": {
      "image/png": "[encoded data removed]",
      "text/plain": [
       "<Figure size 800x400 with 1 Axes>"
      ]
     },
     "metadata": {},
     "output_type": "display_data"
    }
   ],
   "source": [
    "plt.figure(figsize=(8,4))\n",
    "sns.countplot(x='categorical0',data=raw_data, palette='rainbow',hue='target')\n",
    "plt.title(\"Target distribution over categorical0 values\")\n",
    "plt.show()"
   ]
  },
  {
   "cell_type": "markdown",
   "metadata": {},
   "source": [
    "We can see that over 90% of target=1 values are falling into the 'a' value of categorical0 feature. This feature may give us significant increase in model quality"
   ]
  },
  {
   "cell_type": "code",
   "execution_count": 17,
   "metadata": {},
   "outputs": [
    {
     "data": {
      "text/html": [
       "<div>\n",
       "<style scoped>\n",
       "    .dataframe tbody tr th:only-of-type {\n",
       "        vertical-align: middle;\n",
       "    }\n",
       "\n",
       "    .dataframe tbody tr th {\n",
       "        vertical-align: top;\n",
       "    }\n",
       "\n",
       "    .dataframe thead th {\n",
       "        text-align: right;\n",
       "    }\n",
       "</style>\n",
       "<table border=\"1\" class=\"dataframe\">\n",
       "  <thead>\n",
       "    <tr style=\"text-align: right;\">\n",
       "      <th></th>\n",
       "      <th>date</th>\n",
       "      <th>numeric0</th>\n",
       "      <th>numeric1</th>\n",
       "      <th>categorical0</th>\n",
       "      <th>time</th>\n",
       "      <th>target</th>\n",
       "    </tr>\n",
       "  </thead>\n",
       "  <tbody>\n",
       "    <tr>\n",
       "      <th>0</th>\n",
       "      <td>1970-01-01</td>\n",
       "      <td>7382</td>\n",
       "      <td>nan</td>\n",
       "      <td>c</td>\n",
       "      <td>13:13:57</td>\n",
       "      <td>0</td>\n",
       "    </tr>\n",
       "    <tr>\n",
       "      <th>1</th>\n",
       "      <td>1970-01-02</td>\n",
       "      <td>192</td>\n",
       "      <td>6.0</td>\n",
       "      <td>b</td>\n",
       "      <td>23:37:45</td>\n",
       "      <td>0</td>\n",
       "    </tr>\n",
       "    <tr>\n",
       "      <th>2</th>\n",
       "      <td>1970-01-05</td>\n",
       "      <td>4291</td>\n",
       "      <td>nan</td>\n",
       "      <td>b</td>\n",
       "      <td>22:39:45</td>\n",
       "      <td>0</td>\n",
       "    </tr>\n",
       "    <tr>\n",
       "      <th>3</th>\n",
       "      <td>1970-01-06</td>\n",
       "      <td>9735</td>\n",
       "      <td>nan</td>\n",
       "      <td>c</td>\n",
       "      <td>22:57:37</td>\n",
       "      <td>0</td>\n",
       "    </tr>\n",
       "    <tr>\n",
       "      <th>4</th>\n",
       "      <td>1970-01-06</td>\n",
       "      <td>4226</td>\n",
       "      <td>5.0</td>\n",
       "      <td>a</td>\n",
       "      <td>02:13:50</td>\n",
       "      <td>0</td>\n",
       "    </tr>\n",
       "  </tbody>\n",
       "</table>\n",
       "</div>"
      ],
      "text/plain": [
       "        date  numeric0 numeric1 categorical0      time  target\n",
       "0 1970-01-01      7382      nan            c  13:13:57       0\n",
       "1 1970-01-02       192      6.0            b  23:37:45       0\n",
       "2 1970-01-05      4291      nan            b  22:39:45       0\n",
       "3 1970-01-06      9735      nan            c  22:57:37       0\n",
       "4 1970-01-06      4226      5.0            a  02:13:50       0"
      ]
     },
     "execution_count": 17,
     "metadata": {},
     "output_type": "execute_result"
    }
   ],
   "source": [
    "raw_data.head()"
   ]
  },
  {
   "cell_type": "code",
   "execution_count": 18,
   "metadata": {},
   "outputs": [
    {
     "data": {
      "text/plain": [
       "(10000, 6)"
      ]
     },
     "execution_count": 18,
     "metadata": {},
     "output_type": "execute_result"
    }
   ],
   "source": [
    "raw_data.drop_duplicates().shape"
   ]
  },
  {
   "cell_type": "markdown",
   "metadata": {},
   "source": [
    "Our data doesn't have any duplicates. <br> At this point we completed basic data cleaning. <br> Let's move on to basic feature generation"
   ]
  },
  {
   "cell_type": "markdown",
   "metadata": {},
   "source": [
    "## 2. Basic feature generation"
   ]
  },
  {
   "cell_type": "code",
   "execution_count": 19,
   "metadata": {},
   "outputs": [],
   "source": [
    "clean_data = raw_data.copy()\n",
    "clean_data[\"dttm\"] = clean_data.date + pd.to_timedelta(clean_data.time)\n",
    "clean_data.sort_values(\"dttm\", inplace=True)\n",
    "clean_data.reset_index(drop=True, inplace=True)\n",
    "clean_data.drop(['date', 'time'], axis=1, inplace=True)"
   ]
  },
  {
   "cell_type": "code",
   "execution_count": 20,
   "metadata": {},
   "outputs": [
    {
     "data": {
      "text/html": [
       "<div>\n",
       "<style scoped>\n",
       "    .dataframe tbody tr th:only-of-type {\n",
       "        vertical-align: middle;\n",
       "    }\n",
       "\n",
       "    .dataframe tbody tr th {\n",
       "        vertical-align: top;\n",
       "    }\n",
       "\n",
       "    .dataframe thead th {\n",
       "        text-align: right;\n",
       "    }\n",
       "</style>\n",
       "<table border=\"1\" class=\"dataframe\">\n",
       "  <thead>\n",
       "    <tr style=\"text-align: right;\">\n",
       "      <th></th>\n",
       "      <th>numeric0</th>\n",
       "      <th>numeric1</th>\n",
       "      <th>categorical0</th>\n",
       "      <th>target</th>\n",
       "      <th>dttm</th>\n",
       "    </tr>\n",
       "  </thead>\n",
       "  <tbody>\n",
       "    <tr>\n",
       "      <th>0</th>\n",
       "      <td>7382</td>\n",
       "      <td>nan</td>\n",
       "      <td>c</td>\n",
       "      <td>0</td>\n",
       "      <td>1970-01-01 13:13:57</td>\n",
       "    </tr>\n",
       "    <tr>\n",
       "      <th>1</th>\n",
       "      <td>192</td>\n",
       "      <td>6.0</td>\n",
       "      <td>b</td>\n",
       "      <td>0</td>\n",
       "      <td>1970-01-02 23:37:45</td>\n",
       "    </tr>\n",
       "    <tr>\n",
       "      <th>2</th>\n",
       "      <td>4291</td>\n",
       "      <td>nan</td>\n",
       "      <td>b</td>\n",
       "      <td>0</td>\n",
       "      <td>1970-01-05 22:39:45</td>\n",
       "    </tr>\n",
       "    <tr>\n",
       "      <th>3</th>\n",
       "      <td>4226</td>\n",
       "      <td>5.0</td>\n",
       "      <td>a</td>\n",
       "      <td>0</td>\n",
       "      <td>1970-01-06 02:13:50</td>\n",
       "    </tr>\n",
       "    <tr>\n",
       "      <th>4</th>\n",
       "      <td>9735</td>\n",
       "      <td>nan</td>\n",
       "      <td>c</td>\n",
       "      <td>0</td>\n",
       "      <td>1970-01-06 22:57:37</td>\n",
       "    </tr>\n",
       "  </tbody>\n",
       "</table>\n",
       "</div>"
      ],
      "text/plain": [
       "   numeric0 numeric1 categorical0  target                dttm\n",
       "0      7382      nan            c       0 1970-01-01 13:13:57\n",
       "1       192      6.0            b       0 1970-01-02 23:37:45\n",
       "2      4291      nan            b       0 1970-01-05 22:39:45\n",
       "3      4226      5.0            a       0 1970-01-06 02:13:50\n",
       "4      9735      nan            c       0 1970-01-06 22:57:37"
      ]
     },
     "execution_count": 20,
     "metadata": {},
     "output_type": "execute_result"
    }
   ],
   "source": [
    "clean_data.head()"
   ]
  },
  {
   "cell_type": "markdown",
   "metadata": {},
   "source": [
    "Extract time related features"
   ]
  },
  {
   "cell_type": "code",
   "execution_count": 21,
   "metadata": {},
   "outputs": [],
   "source": [
    "clean_data[\"month\"] = clean_data.dttm.dt.month\n",
    "clean_data[\"day_of_week\"] = clean_data.dttm.dt.day_of_week\n",
    "clean_data[\"hour\"] = clean_data.dttm.dt.hour\n",
    "\n",
    "clean_data.set_index(\"dttm\", inplace=True)\n",
    "clean_data = clean_data[[\"month\", \"day_of_week\", \"hour\", \"numeric0\", \"numeric1\", \"categorical0\", \"target\"]]"
   ]
  },
  {
   "cell_type": "code",
   "execution_count": 22,
   "metadata": {},
   "outputs": [
    {
     "data": {
      "text/html": [
       "<div>\n",
       "<style scoped>\n",
       "    .dataframe tbody tr th:only-of-type {\n",
       "        vertical-align: middle;\n",
       "    }\n",
       "\n",
       "    .dataframe tbody tr th {\n",
       "        vertical-align: top;\n",
       "    }\n",
       "\n",
       "    .dataframe thead th {\n",
       "        text-align: right;\n",
       "    }\n",
       "</style>\n",
       "<table border=\"1\" class=\"dataframe\">\n",
       "  <thead>\n",
       "    <tr style=\"text-align: right;\">\n",
       "      <th></th>\n",
       "      <th>month</th>\n",
       "      <th>day_of_week</th>\n",
       "      <th>hour</th>\n",
       "      <th>numeric0</th>\n",
       "      <th>numeric1</th>\n",
       "      <th>categorical0</th>\n",
       "      <th>target</th>\n",
       "    </tr>\n",
       "    <tr>\n",
       "      <th>dttm</th>\n",
       "      <th></th>\n",
       "      <th></th>\n",
       "      <th></th>\n",
       "      <th></th>\n",
       "      <th></th>\n",
       "      <th></th>\n",
       "      <th></th>\n",
       "    </tr>\n",
       "  </thead>\n",
       "  <tbody>\n",
       "    <tr>\n",
       "      <th>1970-01-01 13:13:57</th>\n",
       "      <td>1</td>\n",
       "      <td>3</td>\n",
       "      <td>13</td>\n",
       "      <td>7382</td>\n",
       "      <td>nan</td>\n",
       "      <td>c</td>\n",
       "      <td>0</td>\n",
       "    </tr>\n",
       "    <tr>\n",
       "      <th>1970-01-02 23:37:45</th>\n",
       "      <td>1</td>\n",
       "      <td>4</td>\n",
       "      <td>23</td>\n",
       "      <td>192</td>\n",
       "      <td>6.0</td>\n",
       "      <td>b</td>\n",
       "      <td>0</td>\n",
       "    </tr>\n",
       "    <tr>\n",
       "      <th>1970-01-05 22:39:45</th>\n",
       "      <td>1</td>\n",
       "      <td>0</td>\n",
       "      <td>22</td>\n",
       "      <td>4291</td>\n",
       "      <td>nan</td>\n",
       "      <td>b</td>\n",
       "      <td>0</td>\n",
       "    </tr>\n",
       "    <tr>\n",
       "      <th>1970-01-06 02:13:50</th>\n",
       "      <td>1</td>\n",
       "      <td>1</td>\n",
       "      <td>2</td>\n",
       "      <td>4226</td>\n",
       "      <td>5.0</td>\n",
       "      <td>a</td>\n",
       "      <td>0</td>\n",
       "    </tr>\n",
       "    <tr>\n",
       "      <th>1970-01-06 22:57:37</th>\n",
       "      <td>1</td>\n",
       "      <td>1</td>\n",
       "      <td>22</td>\n",
       "      <td>9735</td>\n",
       "      <td>nan</td>\n",
       "      <td>c</td>\n",
       "      <td>0</td>\n",
       "    </tr>\n",
       "  </tbody>\n",
       "</table>\n",
       "</div>"
      ],
      "text/plain": [
       "                     month  day_of_week  hour  numeric0 numeric1 categorical0  \\\n",
       "dttm                                                                            \n",
       "1970-01-01 13:13:57      1            3    13      7382      nan            c   \n",
       "1970-01-02 23:37:45      1            4    23       192      6.0            b   \n",
       "1970-01-05 22:39:45      1            0    22      4291      nan            b   \n",
       "1970-01-06 02:13:50      1            1     2      4226      5.0            a   \n",
       "1970-01-06 22:57:37      1            1    22      9735      nan            c   \n",
       "\n",
       "                     target  \n",
       "dttm                         \n",
       "1970-01-01 13:13:57       0  \n",
       "1970-01-02 23:37:45       0  \n",
       "1970-01-05 22:39:45       0  \n",
       "1970-01-06 02:13:50       0  \n",
       "1970-01-06 22:57:37       0  "
      ]
     },
     "execution_count": 22,
     "metadata": {},
     "output_type": "execute_result"
    }
   ],
   "source": [
    "clean_data.head()"
   ]
  },
  {
   "cell_type": "markdown",
   "metadata": {},
   "source": [
    "Take a closer look at the only real numerical feature we have - numeric0 "
   ]
  },
  {
   "cell_type": "code",
   "execution_count": 23,
   "metadata": {},
   "outputs": [
    {
     "data": {
      "image/png": "[encoded data removed]",
      "text/plain": [
       "<Figure size 500x500 with 1 Axes>"
      ]
     },
     "metadata": {},
     "output_type": "display_data"
    }
   ],
   "source": [
    "sns.displot(clean_data, x=\"numeric0\", kind='kde')\n",
    "plt.title(\"Distribution of numeric0\")\n",
    "plt.show()"
   ]
  },
  {
   "cell_type": "markdown",
   "metadata": {},
   "source": [
    "This feature is uniformly distributed among all data. <br> Now we will look at the in-class distributions"
   ]
  },
  {
   "cell_type": "code",
   "execution_count": 24,
   "metadata": {},
   "outputs": [
    {
     "data": {
      "image/png": "[encoded data removed]",
      "text/plain": [
       "<Figure size 558.875x500 with 1 Axes>"
      ]
     },
     "metadata": {},
     "output_type": "display_data"
    }
   ],
   "source": [
    "numeric0_1_median = clean_data.loc[clean_data.target == 1]['numeric0'].quantile(0.5)\n",
    "target1_head_of_distribution = clean_data.loc[clean_data.target == 1]['numeric0'].quantile(0.25)\n",
    "\n",
    "plot = sns.displot(clean_data, x=\"numeric0\", hue=\"target\", kind='kde')\n",
    "plt.axvline(x = numeric0_1_median, c='r', linestyle='--', label='Median for target=1')\n",
    "plt.axvline(x = target1_head_of_distribution, c='g', linestyle='--', label='Value for head of distribution target=1')\n",
    "plt.legend(loc=\"right\")\n",
    "plt.title(\"Distribution of numeric0 by target values\")\n",
    "plt.show()"
   ]
  },
  {
   "cell_type": "code",
   "execution_count": 25,
   "metadata": {},
   "outputs": [
    {
     "name": "stdout",
     "output_type": "stream",
     "text": [
      "Median value of numeric0 for positive class is 2922.5\n"
     ]
    }
   ],
   "source": [
    "print(f\"Median value of numeric0 for positive class is {numeric0_1_median}\")"
   ]
  },
  {
   "cell_type": "markdown",
   "metadata": {},
   "source": [
    "Our positive class has skewed distribution towards left side. 50% of positive class values are leaned into the 0-3000 range when numeric0 is uniformly distributed in 0-10000 range in general. <br> <br> Considering those facts we will binarize the values of numeric0 into 1000-size bins and treat this feature as categorical. <br> To consider the skewness of distribution we will implement the feature, which might lead us to better prediction performance - squared distance from the \"bell\" value of distribution"
   ]
  },
  {
   "cell_type": "code",
   "execution_count": 26,
   "metadata": {},
   "outputs": [],
   "source": [
    "bins = [-np.inf] + [i for i in range(clean_data.numeric0.min(), clean_data.numeric0.max(), 1000)] + [np.inf]\n",
    "clean_data[\"numeric0_bins\"] = pd.cut(clean_data['numeric0'], bins)"
   ]
  },
  {
   "cell_type": "code",
   "execution_count": 27,
   "metadata": {},
   "outputs": [
    {
     "data": {
      "text/html": [
       "<div>\n",
       "<style scoped>\n",
       "    .dataframe tbody tr th:only-of-type {\n",
       "        vertical-align: middle;\n",
       "    }\n",
       "\n",
       "    .dataframe tbody tr th {\n",
       "        vertical-align: top;\n",
       "    }\n",
       "\n",
       "    .dataframe thead th {\n",
       "        text-align: right;\n",
       "    }\n",
       "</style>\n",
       "<table border=\"1\" class=\"dataframe\">\n",
       "  <thead>\n",
       "    <tr style=\"text-align: right;\">\n",
       "      <th></th>\n",
       "      <th>month</th>\n",
       "      <th>day_of_week</th>\n",
       "      <th>hour</th>\n",
       "      <th>numeric0</th>\n",
       "      <th>numeric1</th>\n",
       "      <th>categorical0</th>\n",
       "      <th>target</th>\n",
       "      <th>numeric0_bins</th>\n",
       "    </tr>\n",
       "    <tr>\n",
       "      <th>dttm</th>\n",
       "      <th></th>\n",
       "      <th></th>\n",
       "      <th></th>\n",
       "      <th></th>\n",
       "      <th></th>\n",
       "      <th></th>\n",
       "      <th></th>\n",
       "      <th></th>\n",
       "    </tr>\n",
       "  </thead>\n",
       "  <tbody>\n",
       "    <tr>\n",
       "      <th>1970-01-01 13:13:57</th>\n",
       "      <td>1</td>\n",
       "      <td>3</td>\n",
       "      <td>13</td>\n",
       "      <td>7382</td>\n",
       "      <td>nan</td>\n",
       "      <td>c</td>\n",
       "      <td>0</td>\n",
       "      <td>(7000.0, 8000.0]</td>\n",
       "    </tr>\n",
       "    <tr>\n",
       "      <th>1970-01-02 23:37:45</th>\n",
       "      <td>1</td>\n",
       "      <td>4</td>\n",
       "      <td>23</td>\n",
       "      <td>192</td>\n",
       "      <td>6.0</td>\n",
       "      <td>b</td>\n",
       "      <td>0</td>\n",
       "      <td>(0.0, 1000.0]</td>\n",
       "    </tr>\n",
       "    <tr>\n",
       "      <th>1970-01-05 22:39:45</th>\n",
       "      <td>1</td>\n",
       "      <td>0</td>\n",
       "      <td>22</td>\n",
       "      <td>4291</td>\n",
       "      <td>nan</td>\n",
       "      <td>b</td>\n",
       "      <td>0</td>\n",
       "      <td>(4000.0, 5000.0]</td>\n",
       "    </tr>\n",
       "    <tr>\n",
       "      <th>1970-01-06 02:13:50</th>\n",
       "      <td>1</td>\n",
       "      <td>1</td>\n",
       "      <td>2</td>\n",
       "      <td>4226</td>\n",
       "      <td>5.0</td>\n",
       "      <td>a</td>\n",
       "      <td>0</td>\n",
       "      <td>(4000.0, 5000.0]</td>\n",
       "    </tr>\n",
       "    <tr>\n",
       "      <th>1970-01-06 22:57:37</th>\n",
       "      <td>1</td>\n",
       "      <td>1</td>\n",
       "      <td>22</td>\n",
       "      <td>9735</td>\n",
       "      <td>nan</td>\n",
       "      <td>c</td>\n",
       "      <td>0</td>\n",
       "      <td>(9000.0, inf]</td>\n",
       "    </tr>\n",
       "  </tbody>\n",
       "</table>\n",
       "</div>"
      ],
      "text/plain": [
       "                     month  day_of_week  hour  numeric0 numeric1 categorical0  \\\n",
       "dttm                                                                            \n",
       "1970-01-01 13:13:57      1            3    13      7382      nan            c   \n",
       "1970-01-02 23:37:45      1            4    23       192      6.0            b   \n",
       "1970-01-05 22:39:45      1            0    22      4291      nan            b   \n",
       "1970-01-06 02:13:50      1            1     2      4226      5.0            a   \n",
       "1970-01-06 22:57:37      1            1    22      9735      nan            c   \n",
       "\n",
       "                     target     numeric0_bins  \n",
       "dttm                                           \n",
       "1970-01-01 13:13:57       0  (7000.0, 8000.0]  \n",
       "1970-01-02 23:37:45       0     (0.0, 1000.0]  \n",
       "1970-01-05 22:39:45       0  (4000.0, 5000.0]  \n",
       "1970-01-06 02:13:50       0  (4000.0, 5000.0]  \n",
       "1970-01-06 22:57:37       0     (9000.0, inf]  "
      ]
     },
     "execution_count": 27,
     "metadata": {},
     "output_type": "execute_result"
    }
   ],
   "source": [
    "clean_data.head()"
   ]
  },
  {
   "cell_type": "markdown",
   "metadata": {},
   "source": [
    "## 3. Modelling"
   ]
  },
  {
   "cell_type": "markdown",
   "metadata": {},
   "source": [
    "We will split our data based on time because of its nature"
   ]
  },
  {
   "cell_type": "code",
   "execution_count": 28,
   "metadata": {},
   "outputs": [],
   "source": [
    "def split_data(data: pd.DataFrame, n_train_samples: int) -> (pd.DataFrame, pd.DataFrame, pd.Series, pd.Series):\n",
    "    data.sort_index(inplace=True)\n",
    "    \n",
    "    train_data = data[:n_train_samples]\n",
    "    test_data = data[n_train_samples:]\n",
    "\n",
    "    X_train = train_data.drop(\"target\", axis=1)\n",
    "    y_train = train_data[\"target\"]\n",
    "    X_test = test_data.drop(\"target\", axis=1)\n",
    "    y_test = test_data[\"target\"]\n",
    "    \n",
    "    return X_train, X_test, y_train, y_test"
   ]
  },
  {
   "cell_type": "code",
   "execution_count": 29,
   "metadata": {},
   "outputs": [],
   "source": [
    "train_size = int(clean_data.shape[0] * 0.8)\n",
    "\n",
    "X_train, X_test, y_train, y_test = split_data(data=clean_data, n_train_samples=train_size)"
   ]
  },
  {
   "cell_type": "markdown",
   "metadata": {},
   "source": [
    "At this part we have to complete feature generation part <br>\n",
    "1. Calculate derivative feature from numeric0 (as discussed before)\n",
    "2. Encode categorical features"
   ]
  },
  {
   "cell_type": "code",
   "execution_count": 30,
   "metadata": {},
   "outputs": [],
   "source": [
    "train_data = pd.merge(X_train, y_train, how='left', left_index=True, right_index=True)\n",
    "target1_head_of_distribution = train_data.loc[train_data.target == 1]['numeric0'].quantile(0.25)\n",
    "categorical_features = ['month', 'day_of_week', 'hour', 'numeric1', 'categorical0', 'numeric0_bins']\n",
    "\n",
    "\n",
    "def distance_from_bell(data: pd.Series, scaler: MinMaxScaler = None) -> (pd.Series, MinMaxScaler):\n",
    "    dist = ((data - target1_head_of_distribution)**2).values.reshape(-1, 1)\n",
    "    if not scaler:\n",
    "        scaler = MinMaxScaler()\n",
    "        dist_scaled = scaler.fit_transform(dist)\n",
    "    else:\n",
    "        dist_scaled = scaler.transform(dist)\n",
    "    return pd.Series(dist_scaled.flatten(), index=data.index), scaler\n",
    "\n",
    "\n",
    "def encode_categorial(data: pd.DataFrame, \n",
    "                      categories_names: list, enc: OneHotEncoder = None) -> (pd.DataFrame, OneHotEncoder):\n",
    "    if not enc:\n",
    "        enc = OneHotEncoder(drop='first')\n",
    "        encoded_raw = enc.fit_transform(data[categories_names]).toarray()\n",
    "    else:\n",
    "        encoded_raw = enc.transform(data[categories_names]).toarray()\n",
    "    encoded_df = pd.DataFrame(encoded_raw, \n",
    "                              columns=enc.get_feature_names_out(categories_names), \n",
    "                              index=data.index)\n",
    "    return encoded_df, enc\n",
    "\n",
    "\n",
    "def calculate_features(train: pd.DataFrame, test: pd.DataFrame) -> (pd.DataFrame, pd.DataFrame):\n",
    "    train_dfm_scaled, scaler = distance_from_bell(data=train[\"numeric0\"])\n",
    "    test_dfm_scaled, _ = distance_from_bell(data=test[\"numeric0\"], scaler=scaler)\n",
    "    train = train.merge(train_dfm_scaled.rename(\"dfm_scaled\"), \n",
    "                        left_index=True, right_index=True).drop([\"numeric0\"], axis=1)\n",
    "    test = test.merge(test_dfm_scaled.rename(\"dfm_scaled\"), \n",
    "                      left_index=True, right_index=True).drop([\"numeric0\"], axis=1)\n",
    "    \n",
    "    encoded_features_train, encoder = encode_categorial(data=train, categories_names=categorical_features)\n",
    "    encoded_features_test, _ = encode_categorial(data=test, categories_names=categorical_features, enc=encoder)\n",
    "    train = pd.merge(train, encoded_features_train, how='left', \n",
    "                       left_index=True, right_index=True).drop(categorical_features, axis=1)\n",
    "    test = pd.merge(test, encoded_features_test, how='left', \n",
    "                       left_index=True, right_index=True).drop(categorical_features, axis=1)\n",
    "    \n",
    "    assert train.shape[1] == test.shape[1]\n",
    "    return train, test"
   ]
  },
  {
   "cell_type": "code",
   "execution_count": 31,
   "metadata": {},
   "outputs": [],
   "source": [
    "X_train, X_test = calculate_features(train=X_train, test=X_test)"
   ]
  },
  {
   "cell_type": "code",
   "execution_count": 32,
   "metadata": {},
   "outputs": [
    {
     "data": {
      "text/html": [
       "<div>\n",
       "<style scoped>\n",
       "    .dataframe tbody tr th:only-of-type {\n",
       "        vertical-align: middle;\n",
       "    }\n",
       "\n",
       "    .dataframe tbody tr th {\n",
       "        vertical-align: top;\n",
       "    }\n",
       "\n",
       "    .dataframe thead th {\n",
       "        text-align: right;\n",
       "    }\n",
       "</style>\n",
       "<table border=\"1\" class=\"dataframe\">\n",
       "  <thead>\n",
       "    <tr style=\"text-align: right;\">\n",
       "      <th></th>\n",
       "      <th>dfm_scaled</th>\n",
       "      <th>month_2</th>\n",
       "      <th>month_3</th>\n",
       "      <th>month_4</th>\n",
       "      <th>month_5</th>\n",
       "      <th>month_6</th>\n",
       "      <th>month_7</th>\n",
       "      <th>month_8</th>\n",
       "      <th>month_9</th>\n",
       "      <th>month_10</th>\n",
       "      <th>...</th>\n",
       "      <th>numeric0_bins_(0.0, 1000.0]</th>\n",
       "      <th>numeric0_bins_(1000.0, 2000.0]</th>\n",
       "      <th>numeric0_bins_(2000.0, 3000.0]</th>\n",
       "      <th>numeric0_bins_(3000.0, 4000.0]</th>\n",
       "      <th>numeric0_bins_(4000.0, 5000.0]</th>\n",
       "      <th>numeric0_bins_(5000.0, 6000.0]</th>\n",
       "      <th>numeric0_bins_(6000.0, 7000.0]</th>\n",
       "      <th>numeric0_bins_(7000.0, 8000.0]</th>\n",
       "      <th>numeric0_bins_(8000.0, 9000.0]</th>\n",
       "      <th>numeric0_bins_(9000.0, inf]</th>\n",
       "    </tr>\n",
       "    <tr>\n",
       "      <th>dttm</th>\n",
       "      <th></th>\n",
       "      <th></th>\n",
       "      <th></th>\n",
       "      <th></th>\n",
       "      <th></th>\n",
       "      <th></th>\n",
       "      <th></th>\n",
       "      <th></th>\n",
       "      <th></th>\n",
       "      <th></th>\n",
       "      <th></th>\n",
       "      <th></th>\n",
       "      <th></th>\n",
       "      <th></th>\n",
       "      <th></th>\n",
       "      <th></th>\n",
       "      <th></th>\n",
       "      <th></th>\n",
       "      <th></th>\n",
       "      <th></th>\n",
       "      <th></th>\n",
       "    </tr>\n",
       "  </thead>\n",
       "  <tbody>\n",
       "    <tr>\n",
       "      <th>1970-01-01 13:13:57</th>\n",
       "      <td>0.517065</td>\n",
       "      <td>0.0</td>\n",
       "      <td>0.0</td>\n",
       "      <td>0.0</td>\n",
       "      <td>0.0</td>\n",
       "      <td>0.0</td>\n",
       "      <td>0.0</td>\n",
       "      <td>0.0</td>\n",
       "      <td>0.0</td>\n",
       "      <td>0.0</td>\n",
       "      <td>...</td>\n",
       "      <td>0.0</td>\n",
       "      <td>0.0</td>\n",
       "      <td>0.0</td>\n",
       "      <td>0.0</td>\n",
       "      <td>0.0</td>\n",
       "      <td>0.0</td>\n",
       "      <td>0.0</td>\n",
       "      <td>1.0</td>\n",
       "      <td>0.0</td>\n",
       "      <td>0.0</td>\n",
       "    </tr>\n",
       "    <tr>\n",
       "      <th>1970-01-02 23:37:45</th>\n",
       "      <td>0.002814</td>\n",
       "      <td>0.0</td>\n",
       "      <td>0.0</td>\n",
       "      <td>0.0</td>\n",
       "      <td>0.0</td>\n",
       "      <td>0.0</td>\n",
       "      <td>0.0</td>\n",
       "      <td>0.0</td>\n",
       "      <td>0.0</td>\n",
       "      <td>0.0</td>\n",
       "      <td>...</td>\n",
       "      <td>1.0</td>\n",
       "      <td>0.0</td>\n",
       "      <td>0.0</td>\n",
       "      <td>0.0</td>\n",
       "      <td>0.0</td>\n",
       "      <td>0.0</td>\n",
       "      <td>0.0</td>\n",
       "      <td>0.0</td>\n",
       "      <td>0.0</td>\n",
       "      <td>0.0</td>\n",
       "    </tr>\n",
       "    <tr>\n",
       "      <th>1970-01-05 22:39:45</th>\n",
       "      <td>0.149873</td>\n",
       "      <td>0.0</td>\n",
       "      <td>0.0</td>\n",
       "      <td>0.0</td>\n",
       "      <td>0.0</td>\n",
       "      <td>0.0</td>\n",
       "      <td>0.0</td>\n",
       "      <td>0.0</td>\n",
       "      <td>0.0</td>\n",
       "      <td>0.0</td>\n",
       "      <td>...</td>\n",
       "      <td>0.0</td>\n",
       "      <td>0.0</td>\n",
       "      <td>0.0</td>\n",
       "      <td>0.0</td>\n",
       "      <td>1.0</td>\n",
       "      <td>0.0</td>\n",
       "      <td>0.0</td>\n",
       "      <td>0.0</td>\n",
       "      <td>0.0</td>\n",
       "      <td>0.0</td>\n",
       "    </tr>\n",
       "    <tr>\n",
       "      <th>1970-01-06 02:13:50</th>\n",
       "      <td>0.144518</td>\n",
       "      <td>0.0</td>\n",
       "      <td>0.0</td>\n",
       "      <td>0.0</td>\n",
       "      <td>0.0</td>\n",
       "      <td>0.0</td>\n",
       "      <td>0.0</td>\n",
       "      <td>0.0</td>\n",
       "      <td>0.0</td>\n",
       "      <td>0.0</td>\n",
       "      <td>...</td>\n",
       "      <td>0.0</td>\n",
       "      <td>0.0</td>\n",
       "      <td>0.0</td>\n",
       "      <td>0.0</td>\n",
       "      <td>1.0</td>\n",
       "      <td>0.0</td>\n",
       "      <td>0.0</td>\n",
       "      <td>0.0</td>\n",
       "      <td>0.0</td>\n",
       "      <td>0.0</td>\n",
       "    </tr>\n",
       "    <tr>\n",
       "      <th>1970-01-06 22:57:37</th>\n",
       "      <td>0.944311</td>\n",
       "      <td>0.0</td>\n",
       "      <td>0.0</td>\n",
       "      <td>0.0</td>\n",
       "      <td>0.0</td>\n",
       "      <td>0.0</td>\n",
       "      <td>0.0</td>\n",
       "      <td>0.0</td>\n",
       "      <td>0.0</td>\n",
       "      <td>0.0</td>\n",
       "      <td>...</td>\n",
       "      <td>0.0</td>\n",
       "      <td>0.0</td>\n",
       "      <td>0.0</td>\n",
       "      <td>0.0</td>\n",
       "      <td>0.0</td>\n",
       "      <td>0.0</td>\n",
       "      <td>0.0</td>\n",
       "      <td>0.0</td>\n",
       "      <td>0.0</td>\n",
       "      <td>1.0</td>\n",
       "    </tr>\n",
       "  </tbody>\n",
       "</table>\n",
       "<p>5 rows × 63 columns</p>\n",
       "</div>"
      ],
      "text/plain": [
       "                     dfm_scaled  month_2  month_3  month_4  month_5  month_6  \\\n",
       "dttm                                                                           \n",
       "1970-01-01 13:13:57    0.517065      0.0      0.0      0.0      0.0      0.0   \n",
       "1970-01-02 23:37:45    0.002814      0.0      0.0      0.0      0.0      0.0   \n",
       "1970-01-05 22:39:45    0.149873      0.0      0.0      0.0      0.0      0.0   \n",
       "1970-01-06 02:13:50    0.144518      0.0      0.0      0.0      0.0      0.0   \n",
       "1970-01-06 22:57:37    0.944311      0.0      0.0      0.0      0.0      0.0   \n",
       "\n",
       "                     month_7  month_8  month_9  month_10  ...  \\\n",
       "dttm                                                      ...   \n",
       "1970-01-01 13:13:57      0.0      0.0      0.0       0.0  ...   \n",
       "1970-01-02 23:37:45      0.0      0.0      0.0       0.0  ...   \n",
       "1970-01-05 22:39:45      0.0      0.0      0.0       0.0  ...   \n",
       "1970-01-06 02:13:50      0.0      0.0      0.0       0.0  ...   \n",
       "1970-01-06 22:57:37      0.0      0.0      0.0       0.0  ...   \n",
       "\n",
       "                     numeric0_bins_(0.0, 1000.0]  \\\n",
       "dttm                                               \n",
       "1970-01-01 13:13:57                          0.0   \n",
       "1970-01-02 23:37:45                          1.0   \n",
       "1970-01-05 22:39:45                          0.0   \n",
       "1970-01-06 02:13:50                          0.0   \n",
       "1970-01-06 22:57:37                          0.0   \n",
       "\n",
       "                     numeric0_bins_(1000.0, 2000.0]  \\\n",
       "dttm                                                  \n",
       "1970-01-01 13:13:57                             0.0   \n",
       "1970-01-02 23:37:45                             0.0   \n",
       "1970-01-05 22:39:45                             0.0   \n",
       "1970-01-06 02:13:50                             0.0   \n",
       "1970-01-06 22:57:37                             0.0   \n",
       "\n",
       "                     numeric0_bins_(2000.0, 3000.0]  \\\n",
       "dttm                                                  \n",
       "1970-01-01 13:13:57                             0.0   \n",
       "1970-01-02 23:37:45                             0.0   \n",
       "1970-01-05 22:39:45                             0.0   \n",
       "1970-01-06 02:13:50                             0.0   \n",
       "1970-01-06 22:57:37                             0.0   \n",
       "\n",
       "                     numeric0_bins_(3000.0, 4000.0]  \\\n",
       "dttm                                                  \n",
       "1970-01-01 13:13:57                             0.0   \n",
       "1970-01-02 23:37:45                             0.0   \n",
       "1970-01-05 22:39:45                             0.0   \n",
       "1970-01-06 02:13:50                             0.0   \n",
       "1970-01-06 22:57:37                             0.0   \n",
       "\n",
       "                     numeric0_bins_(4000.0, 5000.0]  \\\n",
       "dttm                                                  \n",
       "1970-01-01 13:13:57                             0.0   \n",
       "1970-01-02 23:37:45                             0.0   \n",
       "1970-01-05 22:39:45                             1.0   \n",
       "1970-01-06 02:13:50                             1.0   \n",
       "1970-01-06 22:57:37                             0.0   \n",
       "\n",
       "                     numeric0_bins_(5000.0, 6000.0]  \\\n",
       "dttm                                                  \n",
       "1970-01-01 13:13:57                             0.0   \n",
       "1970-01-02 23:37:45                             0.0   \n",
       "1970-01-05 22:39:45                             0.0   \n",
       "1970-01-06 02:13:50                             0.0   \n",
       "1970-01-06 22:57:37                             0.0   \n",
       "\n",
       "                     numeric0_bins_(6000.0, 7000.0]  \\\n",
       "dttm                                                  \n",
       "1970-01-01 13:13:57                             0.0   \n",
       "1970-01-02 23:37:45                             0.0   \n",
       "1970-01-05 22:39:45                             0.0   \n",
       "1970-01-06 02:13:50                             0.0   \n",
       "1970-01-06 22:57:37                             0.0   \n",
       "\n",
       "                     numeric0_bins_(7000.0, 8000.0]  \\\n",
       "dttm                                                  \n",
       "1970-01-01 13:13:57                             1.0   \n",
       "1970-01-02 23:37:45                             0.0   \n",
       "1970-01-05 22:39:45                             0.0   \n",
       "1970-01-06 02:13:50                             0.0   \n",
       "1970-01-06 22:57:37                             0.0   \n",
       "\n",
       "                     numeric0_bins_(8000.0, 9000.0]  \\\n",
       "dttm                                                  \n",
       "1970-01-01 13:13:57                             0.0   \n",
       "1970-01-02 23:37:45                             0.0   \n",
       "1970-01-05 22:39:45                             0.0   \n",
       "1970-01-06 02:13:50                             0.0   \n",
       "1970-01-06 22:57:37                             0.0   \n",
       "\n",
       "                     numeric0_bins_(9000.0, inf]  \n",
       "dttm                                              \n",
       "1970-01-01 13:13:57                          0.0  \n",
       "1970-01-02 23:37:45                          0.0  \n",
       "1970-01-05 22:39:45                          0.0  \n",
       "1970-01-06 02:13:50                          0.0  \n",
       "1970-01-06 22:57:37                          1.0  \n",
       "\n",
       "[5 rows x 63 columns]"
      ]
     },
     "execution_count": 32,
     "metadata": {},
     "output_type": "execute_result"
    }
   ],
   "source": [
    "X_train.head()"
   ]
  },
  {
   "cell_type": "code",
   "execution_count": 33,
   "metadata": {},
   "outputs": [],
   "source": [
    "features = list(X_train.columns)"
   ]
  },
  {
   "cell_type": "markdown",
   "metadata": {},
   "source": [
    "### 3.1 Baseline model"
   ]
  },
  {
   "cell_type": "markdown",
   "metadata": {},
   "source": [
    "Firstly, we need to understand where we are in terms of performance quality. <br> That's why we need first simple model <br> Let's use logistic regression without any tuning"
   ]
  },
  {
   "cell_type": "code",
   "execution_count": 34,
   "metadata": {},
   "outputs": [],
   "source": [
    "def train_and_score(model, xtrain, ytrain, xtest, ytest):\n",
    "    model.fit(xtrain, ytrain)\n",
    "    y_pred = model.predict(xtest)\n",
    "    \n",
    "    precision, recall, fscore, _ = score(y_test, y_pred, average='binary')\n",
    "    rocauc = roc_auc_score(y_test, y_pred)\n",
    "    tn, fp, fn, tp = confusion_matrix(y_test, y_pred).ravel()\n",
    "\n",
    "    print('precision: {}'.format(precision))\n",
    "    print('recall: {}'.format(recall))\n",
    "    print('fscore: {}'.format(fscore))\n",
    "    print('roc auc: {}'.format(rocauc))\n",
    "    print('TP={}, FP={}, TN={}, FN={}'.format(tp, fp, tn, fn))\n",
    "    \n",
    "    return model"
   ]
  },
  {
   "cell_type": "code",
   "execution_count": 35,
   "metadata": {},
   "outputs": [
    {
     "name": "stdout",
     "output_type": "stream",
     "text": [
      "precision: 0.9076923076923077\n",
      "recall: 0.23412698412698413\n",
      "fscore: 0.3722397476340694\n",
      "roc auc: 0.6153472449239039\n",
      "TP=59, FP=6, TN=1742, FN=193\n"
     ]
    },
    {
     "data": {
      "text/html": [
       "<style>#sk-container-id-1 {color: black;background-color: white;}#sk-container-id-1 pre{padding: 0;}#sk-container-id-1 div.sk-toggleable {background-color: white;}#sk-container-id-1 label.sk-toggleable__label {cursor: pointer;display: block;width: 100%;margin-bottom: 0;padding: 0.3em;box-sizing: border-box;text-align: center;}#sk-container-id-1 label.sk-toggleable__label-arrow:before {content: \"▸\";float: left;margin-right: 0.25em;color: #696969;}#sk-container-id-1 label.sk-toggleable__label-arrow:hover:before {color: black;}#sk-container-id-1 div.sk-estimator:hover label.sk-toggleable__label-arrow:before {color: black;}#sk-container-id-1 div.sk-toggleable__content {max-height: 0;max-width: 0;overflow: hidden;text-align: left;background-color: #f0f8ff;}#sk-container-id-1 div.sk-toggleable__content pre {margin: 0.2em;color: black;border-radius: 0.25em;background-color: #f0f8ff;}#sk-container-id-1 input.sk-toggleable__control:checked~div.sk-toggleable__content {max-height: 200px;max-width: 100%;overflow: auto;}#sk-container-id-1 input.sk-toggleable__control:checked~label.sk-toggleable__label-arrow:before {content: \"▾\";}#sk-container-id-1 div.sk-estimator input.sk-toggleable__control:checked~label.sk-toggleable__label {background-color: #d4ebff;}#sk-container-id-1 div.sk-label input.sk-toggleable__control:checked~label.sk-toggleable__label {background-color: #d4ebff;}#sk-container-id-1 input.sk-hidden--visually {border: 0;clip: rect(1px 1px 1px 1px);clip: rect(1px, 1px, 1px, 1px);height: 1px;margin: -1px;overflow: hidden;padding: 0;position: absolute;width: 1px;}#sk-container-id-1 div.sk-estimator {font-family: monospace;background-color: #f0f8ff;border: 1px dotted black;border-radius: 0.25em;box-sizing: border-box;margin-bottom: 0.5em;}#sk-container-id-1 div.sk-estimator:hover {background-color: #d4ebff;}#sk-container-id-1 div.sk-parallel-item::after {content: \"\";width: 100%;border-bottom: 1px solid gray;flex-grow: 1;}#sk-container-id-1 div.sk-label:hover label.sk-toggleable__label {background-color: #d4ebff;}#sk-container-id-1 div.sk-serial::before {content: \"\";position: absolute;border-left: 1px solid gray;box-sizing: border-box;top: 0;bottom: 0;left: 50%;z-index: 0;}#sk-container-id-1 div.sk-serial {display: flex;flex-direction: column;align-items: center;background-color: white;padding-right: 0.2em;padding-left: 0.2em;position: relative;}#sk-container-id-1 div.sk-item {position: relative;z-index: 1;}#sk-container-id-1 div.sk-parallel {display: flex;align-items: stretch;justify-content: center;background-color: white;position: relative;}#sk-container-id-1 div.sk-item::before, #sk-container-id-1 div.sk-parallel-item::before {content: \"\";position: absolute;border-left: 1px solid gray;box-sizing: border-box;top: 0;bottom: 0;left: 50%;z-index: -1;}#sk-container-id-1 div.sk-parallel-item {display: flex;flex-direction: column;z-index: 1;position: relative;background-color: white;}#sk-container-id-1 div.sk-parallel-item:first-child::after {align-self: flex-end;width: 50%;}#sk-container-id-1 div.sk-parallel-item:last-child::after {align-self: flex-start;width: 50%;}#sk-container-id-1 div.sk-parallel-item:only-child::after {width: 0;}#sk-container-id-1 div.sk-dashed-wrapped {border: 1px dashed gray;margin: 0 0.4em 0.5em 0.4em;box-sizing: border-box;padding-bottom: 0.4em;background-color: white;}#sk-container-id-1 div.sk-label label {font-family: monospace;font-weight: bold;display: inline-block;line-height: 1.2em;}#sk-container-id-1 div.sk-label-container {text-align: center;}#sk-container-id-1 div.sk-container {/* jupyter's `normalize.less` sets `[hidden] { display: none; }` but bootstrap.min.css set `[hidden] { display: none !important; }` so we also need the `!important` here to be able to override the default hidden behavior on the sphinx rendered scikit-learn.org. See: https://github.com/scikit-learn/scikit-learn/issues/21755 */display: inline-block !important;position: relative;}#sk-container-id-1 div.sk-text-repr-fallback {display: none;}</style><div id=\"sk-container-id-1\" class=\"sk-top-container\"><div class=\"sk-text-repr-fallback\"><pre>LogisticRegression()</pre><b>In a Jupyter environment, please rerun this cell to show the HTML representation or trust the notebook. <br />On GitHub, the HTML representation is unable to render, please try loading this page with nbviewer.org.</b></div><div class=\"sk-container\" hidden><div class=\"sk-item\"><div class=\"sk-estimator sk-toggleable\"><input class=\"sk-toggleable__control sk-hidden--visually\" id=\"sk-estimator-id-1\" type=\"checkbox\" checked><label for=\"sk-estimator-id-1\" class=\"sk-toggleable__label sk-toggleable__label-arrow\">LogisticRegression</label><div class=\"sk-toggleable__content\"><pre>LogisticRegression()</pre></div></div></div></div></div>"
      ],
      "text/plain": [
       "LogisticRegression()"
      ]
     },
     "execution_count": 35,
     "metadata": {},
     "output_type": "execute_result"
    }
   ],
   "source": [
    "lr = LogisticRegression()\n",
    "train_and_score(model=lr, xtrain=X_train[features].values, ytrain=y_train.values, \n",
    "                xtest=X_test[features].values, ytest=y_test)"
   ]
  },
  {
   "cell_type": "markdown",
   "metadata": {},
   "source": [
    "As we can see our baseline model rarely fails in predicting a negative label as a positive one (precision), but it makes a lot of mistakes when it misses a positive class (recall). <br>\n",
    "\n",
    "Our dataset suffers from imbalanced classes. That might lead to poor model performance in predicting positive class. <br> \n",
    "\n",
    "Next steps:\n",
    "1. Handle imbalanced classes issue and try baseline model again\n",
    "2. Make better work in feature selection process\n",
    "3. Try other models"
   ]
  },
  {
   "cell_type": "markdown",
   "metadata": {},
   "source": [
    "## 4. Handle imbalanced classes"
   ]
  },
  {
   "cell_type": "markdown",
   "metadata": {},
   "source": [
    "We will try several techniques to tackle imbalanced classes' problem <br>\n",
    "1. Down-sampling\n",
    "2. Up-sampling\n",
    "3. Penalizing for incorrect prediction of minority class"
   ]
  },
  {
   "cell_type": "markdown",
   "metadata": {},
   "source": [
    "### 4.1 Down-sampling"
   ]
  },
  {
   "cell_type": "markdown",
   "metadata": {},
   "source": [
    "The goal of down-sampling is to reduce the number of majority class sample (target=0)"
   ]
  },
  {
   "cell_type": "code",
   "execution_count": 36,
   "metadata": {},
   "outputs": [],
   "source": [
    "train_data = pd.merge(X_train, y_train, how=\"left\", left_index=True, right_index=True)\n",
    "\n",
    "train_majority = train_data.loc[train_data.target == 0]\n",
    "train_minority = train_data.loc[train_data.target == 1]\n",
    "\n",
    "majority_downsampled = resample(train_majority, \n",
    "                                replace=False,\n",
    "                                n_samples=train_minority.shape[0],\n",
    "                                random_state=1) \n",
    "\n",
    "train_downsampled = pd.concat([majority_downsampled, train_minority])"
   ]
  },
  {
   "cell_type": "code",
   "execution_count": 37,
   "metadata": {},
   "outputs": [
    {
     "data": {
      "text/plain": [
       "0    1078\n",
       "1    1078\n",
       "Name: target, dtype: int64"
      ]
     },
     "execution_count": 37,
     "metadata": {},
     "output_type": "execute_result"
    }
   ],
   "source": [
    "train_downsampled.target.value_counts()"
   ]
  },
  {
   "cell_type": "markdown",
   "metadata": {},
   "source": [
    "Check how down-sampling is solving our imbalanced classes' problem with baseline model"
   ]
  },
  {
   "cell_type": "code",
   "execution_count": 38,
   "metadata": {},
   "outputs": [],
   "source": [
    "X_train = train_downsampled.drop(\"target\", axis=1)\n",
    "y_train = train_downsampled[\"target\"]"
   ]
  },
  {
   "cell_type": "code",
   "execution_count": 39,
   "metadata": {},
   "outputs": [
    {
     "name": "stdout",
     "output_type": "stream",
     "text": [
      "precision: 0.3256445047489824\n",
      "recall: 0.9523809523809523\n",
      "fscore: 0.48533872598584427\n",
      "roc auc: 0.8340280047945952\n",
      "TP=240, FP=497, TN=1251, FN=12\n"
     ]
    },
    {
     "data": {
      "text/html": [
       "<style>#sk-container-id-2 {color: black;background-color: white;}#sk-container-id-2 pre{padding: 0;}#sk-container-id-2 div.sk-toggleable {background-color: white;}#sk-container-id-2 label.sk-toggleable__label {cursor: pointer;display: block;width: 100%;margin-bottom: 0;padding: 0.3em;box-sizing: border-box;text-align: center;}#sk-container-id-2 label.sk-toggleable__label-arrow:before {content: \"▸\";float: left;margin-right: 0.25em;color: #696969;}#sk-container-id-2 label.sk-toggleable__label-arrow:hover:before {color: black;}#sk-container-id-2 div.sk-estimator:hover label.sk-toggleable__label-arrow:before {color: black;}#sk-container-id-2 div.sk-toggleable__content {max-height: 0;max-width: 0;overflow: hidden;text-align: left;background-color: #f0f8ff;}#sk-container-id-2 div.sk-toggleable__content pre {margin: 0.2em;color: black;border-radius: 0.25em;background-color: #f0f8ff;}#sk-container-id-2 input.sk-toggleable__control:checked~div.sk-toggleable__content {max-height: 200px;max-width: 100%;overflow: auto;}#sk-container-id-2 input.sk-toggleable__control:checked~label.sk-toggleable__label-arrow:before {content: \"▾\";}#sk-container-id-2 div.sk-estimator input.sk-toggleable__control:checked~label.sk-toggleable__label {background-color: #d4ebff;}#sk-container-id-2 div.sk-label input.sk-toggleable__control:checked~label.sk-toggleable__label {background-color: #d4ebff;}#sk-container-id-2 input.sk-hidden--visually {border: 0;clip: rect(1px 1px 1px 1px);clip: rect(1px, 1px, 1px, 1px);height: 1px;margin: -1px;overflow: hidden;padding: 0;position: absolute;width: 1px;}#sk-container-id-2 div.sk-estimator {font-family: monospace;background-color: #f0f8ff;border: 1px dotted black;border-radius: 0.25em;box-sizing: border-box;margin-bottom: 0.5em;}#sk-container-id-2 div.sk-estimator:hover {background-color: #d4ebff;}#sk-container-id-2 div.sk-parallel-item::after {content: \"\";width: 100%;border-bottom: 1px solid gray;flex-grow: 1;}#sk-container-id-2 div.sk-label:hover label.sk-toggleable__label {background-color: #d4ebff;}#sk-container-id-2 div.sk-serial::before {content: \"\";position: absolute;border-left: 1px solid gray;box-sizing: border-box;top: 0;bottom: 0;left: 50%;z-index: 0;}#sk-container-id-2 div.sk-serial {display: flex;flex-direction: column;align-items: center;background-color: white;padding-right: 0.2em;padding-left: 0.2em;position: relative;}#sk-container-id-2 div.sk-item {position: relative;z-index: 1;}#sk-container-id-2 div.sk-parallel {display: flex;align-items: stretch;justify-content: center;background-color: white;position: relative;}#sk-container-id-2 div.sk-item::before, #sk-container-id-2 div.sk-parallel-item::before {content: \"\";position: absolute;border-left: 1px solid gray;box-sizing: border-box;top: 0;bottom: 0;left: 50%;z-index: -1;}#sk-container-id-2 div.sk-parallel-item {display: flex;flex-direction: column;z-index: 1;position: relative;background-color: white;}#sk-container-id-2 div.sk-parallel-item:first-child::after {align-self: flex-end;width: 50%;}#sk-container-id-2 div.sk-parallel-item:last-child::after {align-self: flex-start;width: 50%;}#sk-container-id-2 div.sk-parallel-item:only-child::after {width: 0;}#sk-container-id-2 div.sk-dashed-wrapped {border: 1px dashed gray;margin: 0 0.4em 0.5em 0.4em;box-sizing: border-box;padding-bottom: 0.4em;background-color: white;}#sk-container-id-2 div.sk-label label {font-family: monospace;font-weight: bold;display: inline-block;line-height: 1.2em;}#sk-container-id-2 div.sk-label-container {text-align: center;}#sk-container-id-2 div.sk-container {/* jupyter's `normalize.less` sets `[hidden] { display: none; }` but bootstrap.min.css set `[hidden] { display: none !important; }` so we also need the `!important` here to be able to override the default hidden behavior on the sphinx rendered scikit-learn.org. See: https://github.com/scikit-learn/scikit-learn/issues/21755 */display: inline-block !important;position: relative;}#sk-container-id-2 div.sk-text-repr-fallback {display: none;}</style><div id=\"sk-container-id-2\" class=\"sk-top-container\"><div class=\"sk-text-repr-fallback\"><pre>LogisticRegression()</pre><b>In a Jupyter environment, please rerun this cell to show the HTML representation or trust the notebook. <br />On GitHub, the HTML representation is unable to render, please try loading this page with nbviewer.org.</b></div><div class=\"sk-container\" hidden><div class=\"sk-item\"><div class=\"sk-estimator sk-toggleable\"><input class=\"sk-toggleable__control sk-hidden--visually\" id=\"sk-estimator-id-2\" type=\"checkbox\" checked><label for=\"sk-estimator-id-2\" class=\"sk-toggleable__label sk-toggleable__label-arrow\">LogisticRegression</label><div class=\"sk-toggleable__content\"><pre>LogisticRegression()</pre></div></div></div></div></div>"
      ],
      "text/plain": [
       "LogisticRegression()"
      ]
     },
     "execution_count": 39,
     "metadata": {},
     "output_type": "execute_result"
    }
   ],
   "source": [
    "lr = LogisticRegression()\n",
    "train_and_score(model=lr, xtrain=X_train[features].values, ytrain=y_train.values, \n",
    "                xtest=X_test[features].values, ytest=y_test)"
   ]
  },
  {
   "cell_type": "markdown",
   "metadata": {},
   "source": [
    "With down-sampling our new model has opposite performance metrics. Now we have predicting well almost all true positive labels (high recall), but at the same time this model is making much more mistakes in predicting negative label as positive one (lower precision). But based on roc-auc score we can say, that our model now has much better generalization ability."
   ]
  },
  {
   "cell_type": "markdown",
   "metadata": {},
   "source": [
    "### 4.2 Up-sampling"
   ]
  },
  {
   "cell_type": "markdown",
   "metadata": {},
   "source": [
    "Opposite idea to down-sampling - we will add more examples of our minority class to dataset"
   ]
  },
  {
   "cell_type": "code",
   "execution_count": 40,
   "metadata": {},
   "outputs": [],
   "source": [
    "X_train, X_test, y_train, y_test = split_data(data=clean_data, n_train_samples=train_size)"
   ]
  },
  {
   "cell_type": "code",
   "execution_count": 41,
   "metadata": {},
   "outputs": [],
   "source": [
    "X_train, X_test = calculate_features(train=X_train, test=X_test)"
   ]
  },
  {
   "cell_type": "code",
   "execution_count": 42,
   "metadata": {},
   "outputs": [],
   "source": [
    "train_data = pd.merge(X_train, y_train, how=\"left\", left_index=True, right_index=True)\n",
    "\n",
    "train_majority = train_data.loc[train_data.target == 0]\n",
    "train_minority = train_data.loc[train_data.target == 1]\n",
    "\n",
    "minority_upsampled = resample(train_minority, \n",
    "                                replace=True,\n",
    "                                n_samples=train_majority.shape[0],\n",
    "                                random_state=1) \n",
    "\n",
    "train_upsampled = pd.concat([minority_upsampled, train_majority])"
   ]
  },
  {
   "cell_type": "code",
   "execution_count": 43,
   "metadata": {},
   "outputs": [
    {
     "data": {
      "text/plain": [
       "1    6922\n",
       "0    6922\n",
       "Name: target, dtype: int64"
      ]
     },
     "execution_count": 43,
     "metadata": {},
     "output_type": "execute_result"
    }
   ],
   "source": [
    "train_upsampled.target.value_counts()"
   ]
  },
  {
   "cell_type": "markdown",
   "metadata": {},
   "source": [
    "Check how up-sampling is solving our imbalanced classes problem with baseline model"
   ]
  },
  {
   "cell_type": "code",
   "execution_count": 44,
   "metadata": {},
   "outputs": [],
   "source": [
    "X_train = train_upsampled.drop(\"target\", axis=1)\n",
    "y_train = train_upsampled[\"target\"]"
   ]
  },
  {
   "cell_type": "code",
   "execution_count": 45,
   "metadata": {},
   "outputs": [
    {
     "name": "stdout",
     "output_type": "stream",
     "text": [
      "precision: 0.328\n",
      "recall: 0.9761904761904762\n",
      "fscore: 0.4910179640718563\n",
      "roc auc: 0.8439304783698376\n",
      "TP=246, FP=504, TN=1244, FN=6\n"
     ]
    },
    {
     "data": {
      "text/html": [
       "<style>#sk-container-id-3 {color: black;background-color: white;}#sk-container-id-3 pre{padding: 0;}#sk-container-id-3 div.sk-toggleable {background-color: white;}#sk-container-id-3 label.sk-toggleable__label {cursor: pointer;display: block;width: 100%;margin-bottom: 0;padding: 0.3em;box-sizing: border-box;text-align: center;}#sk-container-id-3 label.sk-toggleable__label-arrow:before {content: \"▸\";float: left;margin-right: 0.25em;color: #696969;}#sk-container-id-3 label.sk-toggleable__label-arrow:hover:before {color: black;}#sk-container-id-3 div.sk-estimator:hover label.sk-toggleable__label-arrow:before {color: black;}#sk-container-id-3 div.sk-toggleable__content {max-height: 0;max-width: 0;overflow: hidden;text-align: left;background-color: #f0f8ff;}#sk-container-id-3 div.sk-toggleable__content pre {margin: 0.2em;color: black;border-radius: 0.25em;background-color: #f0f8ff;}#sk-container-id-3 input.sk-toggleable__control:checked~div.sk-toggleable__content {max-height: 200px;max-width: 100%;overflow: auto;}#sk-container-id-3 input.sk-toggleable__control:checked~label.sk-toggleable__label-arrow:before {content: \"▾\";}#sk-container-id-3 div.sk-estimator input.sk-toggleable__control:checked~label.sk-toggleable__label {background-color: #d4ebff;}#sk-container-id-3 div.sk-label input.sk-toggleable__control:checked~label.sk-toggleable__label {background-color: #d4ebff;}#sk-container-id-3 input.sk-hidden--visually {border: 0;clip: rect(1px 1px 1px 1px);clip: rect(1px, 1px, 1px, 1px);height: 1px;margin: -1px;overflow: hidden;padding: 0;position: absolute;width: 1px;}#sk-container-id-3 div.sk-estimator {font-family: monospace;background-color: #f0f8ff;border: 1px dotted black;border-radius: 0.25em;box-sizing: border-box;margin-bottom: 0.5em;}#sk-container-id-3 div.sk-estimator:hover {background-color: #d4ebff;}#sk-container-id-3 div.sk-parallel-item::after {content: \"\";width: 100%;border-bottom: 1px solid gray;flex-grow: 1;}#sk-container-id-3 div.sk-label:hover label.sk-toggleable__label {background-color: #d4ebff;}#sk-container-id-3 div.sk-serial::before {content: \"\";position: absolute;border-left: 1px solid gray;box-sizing: border-box;top: 0;bottom: 0;left: 50%;z-index: 0;}#sk-container-id-3 div.sk-serial {display: flex;flex-direction: column;align-items: center;background-color: white;padding-right: 0.2em;padding-left: 0.2em;position: relative;}#sk-container-id-3 div.sk-item {position: relative;z-index: 1;}#sk-container-id-3 div.sk-parallel {display: flex;align-items: stretch;justify-content: center;background-color: white;position: relative;}#sk-container-id-3 div.sk-item::before, #sk-container-id-3 div.sk-parallel-item::before {content: \"\";position: absolute;border-left: 1px solid gray;box-sizing: border-box;top: 0;bottom: 0;left: 50%;z-index: -1;}#sk-container-id-3 div.sk-parallel-item {display: flex;flex-direction: column;z-index: 1;position: relative;background-color: white;}#sk-container-id-3 div.sk-parallel-item:first-child::after {align-self: flex-end;width: 50%;}#sk-container-id-3 div.sk-parallel-item:last-child::after {align-self: flex-start;width: 50%;}#sk-container-id-3 div.sk-parallel-item:only-child::after {width: 0;}#sk-container-id-3 div.sk-dashed-wrapped {border: 1px dashed gray;margin: 0 0.4em 0.5em 0.4em;box-sizing: border-box;padding-bottom: 0.4em;background-color: white;}#sk-container-id-3 div.sk-label label {font-family: monospace;font-weight: bold;display: inline-block;line-height: 1.2em;}#sk-container-id-3 div.sk-label-container {text-align: center;}#sk-container-id-3 div.sk-container {/* jupyter's `normalize.less` sets `[hidden] { display: none; }` but bootstrap.min.css set `[hidden] { display: none !important; }` so we also need the `!important` here to be able to override the default hidden behavior on the sphinx rendered scikit-learn.org. See: https://github.com/scikit-learn/scikit-learn/issues/21755 */display: inline-block !important;position: relative;}#sk-container-id-3 div.sk-text-repr-fallback {display: none;}</style><div id=\"sk-container-id-3\" class=\"sk-top-container\"><div class=\"sk-text-repr-fallback\"><pre>LogisticRegression()</pre><b>In a Jupyter environment, please rerun this cell to show the HTML representation or trust the notebook. <br />On GitHub, the HTML representation is unable to render, please try loading this page with nbviewer.org.</b></div><div class=\"sk-container\" hidden><div class=\"sk-item\"><div class=\"sk-estimator sk-toggleable\"><input class=\"sk-toggleable__control sk-hidden--visually\" id=\"sk-estimator-id-3\" type=\"checkbox\" checked><label for=\"sk-estimator-id-3\" class=\"sk-toggleable__label sk-toggleable__label-arrow\">LogisticRegression</label><div class=\"sk-toggleable__content\"><pre>LogisticRegression()</pre></div></div></div></div></div>"
      ],
      "text/plain": [
       "LogisticRegression()"
      ]
     },
     "execution_count": 45,
     "metadata": {},
     "output_type": "execute_result"
    }
   ],
   "source": [
    "lr = LogisticRegression()\n",
    "train_and_score(model=lr, xtrain=X_train[features].values, ytrain=y_train.values, \n",
    "                xtest=X_test[features].values, ytest=y_test)"
   ]
  },
  {
   "cell_type": "markdown",
   "metadata": {},
   "source": [
    "Up-sampling approach gave us slight improvement over down-sampling approach. But in general both approaches performed better than baseline model "
   ]
  },
  {
   "cell_type": "markdown",
   "metadata": {},
   "source": [
    "### 4.3 Penalizing model"
   ]
  },
  {
   "cell_type": "markdown",
   "metadata": {},
   "source": [
    "We will try to use penalized learning algorithm that increase the cost of classification mistakes on the minority class"
   ]
  },
  {
   "cell_type": "code",
   "execution_count": 46,
   "metadata": {},
   "outputs": [],
   "source": [
    "X_train, X_test, y_train, y_test = split_data(data=clean_data, n_train_samples=train_size)\n",
    "X_train, X_test = calculate_features(train=X_train, test=X_test)"
   ]
  },
  {
   "cell_type": "code",
   "execution_count": 47,
   "metadata": {},
   "outputs": [
    {
     "name": "stdout",
     "output_type": "stream",
     "text": [
      "precision: 0.3275862068965517\n",
      "recall: 0.9047619047619048\n",
      "fscore: 0.48101265822784806\n",
      "roc auc: 0.8185136754930804\n",
      "TP=228, FP=468, TN=1280, FN=24\n"
     ]
    },
    {
     "data": {
      "text/html": [
       "<style>#sk-container-id-4 {color: black;background-color: white;}#sk-container-id-4 pre{padding: 0;}#sk-container-id-4 div.sk-toggleable {background-color: white;}#sk-container-id-4 label.sk-toggleable__label {cursor: pointer;display: block;width: 100%;margin-bottom: 0;padding: 0.3em;box-sizing: border-box;text-align: center;}#sk-container-id-4 label.sk-toggleable__label-arrow:before {content: \"▸\";float: left;margin-right: 0.25em;color: #696969;}#sk-container-id-4 label.sk-toggleable__label-arrow:hover:before {color: black;}#sk-container-id-4 div.sk-estimator:hover label.sk-toggleable__label-arrow:before {color: black;}#sk-container-id-4 div.sk-toggleable__content {max-height: 0;max-width: 0;overflow: hidden;text-align: left;background-color: #f0f8ff;}#sk-container-id-4 div.sk-toggleable__content pre {margin: 0.2em;color: black;border-radius: 0.25em;background-color: #f0f8ff;}#sk-container-id-4 input.sk-toggleable__control:checked~div.sk-toggleable__content {max-height: 200px;max-width: 100%;overflow: auto;}#sk-container-id-4 input.sk-toggleable__control:checked~label.sk-toggleable__label-arrow:before {content: \"▾\";}#sk-container-id-4 div.sk-estimator input.sk-toggleable__control:checked~label.sk-toggleable__label {background-color: #d4ebff;}#sk-container-id-4 div.sk-label input.sk-toggleable__control:checked~label.sk-toggleable__label {background-color: #d4ebff;}#sk-container-id-4 input.sk-hidden--visually {border: 0;clip: rect(1px 1px 1px 1px);clip: rect(1px, 1px, 1px, 1px);height: 1px;margin: -1px;overflow: hidden;padding: 0;position: absolute;width: 1px;}#sk-container-id-4 div.sk-estimator {font-family: monospace;background-color: #f0f8ff;border: 1px dotted black;border-radius: 0.25em;box-sizing: border-box;margin-bottom: 0.5em;}#sk-container-id-4 div.sk-estimator:hover {background-color: #d4ebff;}#sk-container-id-4 div.sk-parallel-item::after {content: \"\";width: 100%;border-bottom: 1px solid gray;flex-grow: 1;}#sk-container-id-4 div.sk-label:hover label.sk-toggleable__label {background-color: #d4ebff;}#sk-container-id-4 div.sk-serial::before {content: \"\";position: absolute;border-left: 1px solid gray;box-sizing: border-box;top: 0;bottom: 0;left: 50%;z-index: 0;}#sk-container-id-4 div.sk-serial {display: flex;flex-direction: column;align-items: center;background-color: white;padding-right: 0.2em;padding-left: 0.2em;position: relative;}#sk-container-id-4 div.sk-item {position: relative;z-index: 1;}#sk-container-id-4 div.sk-parallel {display: flex;align-items: stretch;justify-content: center;background-color: white;position: relative;}#sk-container-id-4 div.sk-item::before, #sk-container-id-4 div.sk-parallel-item::before {content: \"\";position: absolute;border-left: 1px solid gray;box-sizing: border-box;top: 0;bottom: 0;left: 50%;z-index: -1;}#sk-container-id-4 div.sk-parallel-item {display: flex;flex-direction: column;z-index: 1;position: relative;background-color: white;}#sk-container-id-4 div.sk-parallel-item:first-child::after {align-self: flex-end;width: 50%;}#sk-container-id-4 div.sk-parallel-item:last-child::after {align-self: flex-start;width: 50%;}#sk-container-id-4 div.sk-parallel-item:only-child::after {width: 0;}#sk-container-id-4 div.sk-dashed-wrapped {border: 1px dashed gray;margin: 0 0.4em 0.5em 0.4em;box-sizing: border-box;padding-bottom: 0.4em;background-color: white;}#sk-container-id-4 div.sk-label label {font-family: monospace;font-weight: bold;display: inline-block;line-height: 1.2em;}#sk-container-id-4 div.sk-label-container {text-align: center;}#sk-container-id-4 div.sk-container {/* jupyter's `normalize.less` sets `[hidden] { display: none; }` but bootstrap.min.css set `[hidden] { display: none !important; }` so we also need the `!important` here to be able to override the default hidden behavior on the sphinx rendered scikit-learn.org. See: https://github.com/scikit-learn/scikit-learn/issues/21755 */display: inline-block !important;position: relative;}#sk-container-id-4 div.sk-text-repr-fallback {display: none;}</style><div id=\"sk-container-id-4\" class=\"sk-top-container\"><div class=\"sk-text-repr-fallback\"><pre>SVC(class_weight=&#x27;balanced&#x27;)</pre><b>In a Jupyter environment, please rerun this cell to show the HTML representation or trust the notebook. <br />On GitHub, the HTML representation is unable to render, please try loading this page with nbviewer.org.</b></div><div class=\"sk-container\" hidden><div class=\"sk-item\"><div class=\"sk-estimator sk-toggleable\"><input class=\"sk-toggleable__control sk-hidden--visually\" id=\"sk-estimator-id-4\" type=\"checkbox\" checked><label for=\"sk-estimator-id-4\" class=\"sk-toggleable__label sk-toggleable__label-arrow\">SVC</label><div class=\"sk-toggleable__content\"><pre>SVC(class_weight=&#x27;balanced&#x27;)</pre></div></div></div></div></div>"
      ],
      "text/plain": [
       "SVC(class_weight='balanced')"
      ]
     },
     "execution_count": 47,
     "metadata": {},
     "output_type": "execute_result"
    }
   ],
   "source": [
    "penal_model = SVC(class_weight='balanced')\n",
    "train_and_score(model=penal_model, xtrain=X_train[features].values, ytrain=y_train.values, \n",
    "                xtest=X_test[features].values, ytest=y_test)"
   ]
  },
  {
   "cell_type": "markdown",
   "metadata": {},
   "source": [
    "So penalizing model also does the trick, but it's not better than up-sampling technique."
   ]
  },
  {
   "cell_type": "markdown",
   "metadata": {},
   "source": [
    "## 5. Feature selection"
   ]
  },
  {
   "cell_type": "markdown",
   "metadata": {},
   "source": [
    "Let's try to improve up-sampling model result and make some feature selection based on mutual information criteria."
   ]
  },
  {
   "cell_type": "markdown",
   "metadata": {},
   "source": [
    "### Repeat up-sampling procedure"
   ]
  },
  {
   "cell_type": "code",
   "execution_count": 48,
   "metadata": {},
   "outputs": [],
   "source": [
    "X_train, X_test, y_train, y_test = split_data(data=clean_data, n_train_samples=train_size)\n",
    "X_train, X_test = calculate_features(train=X_train, test=X_test)"
   ]
  },
  {
   "cell_type": "code",
   "execution_count": 49,
   "metadata": {},
   "outputs": [],
   "source": [
    "train_data = pd.merge(X_train, y_train, how=\"left\", left_index=True, right_index=True)\n",
    "\n",
    "train_majority = train_data.loc[train_data.target == 0]\n",
    "train_minority = train_data.loc[train_data.target == 1]\n",
    "\n",
    "minority_upsampled = resample(train_minority, \n",
    "                                replace=True,\n",
    "                                n_samples=train_majority.shape[0],\n",
    "                                random_state=1) \n",
    "\n",
    "train_upsampled = pd.concat([minority_upsampled, train_majority])"
   ]
  },
  {
   "cell_type": "code",
   "execution_count": 50,
   "metadata": {},
   "outputs": [],
   "source": [
    "X_train = train_upsampled.drop(\"target\", axis=1)\n",
    "y_train = train_upsampled[\"target\"]"
   ]
  },
  {
   "cell_type": "markdown",
   "metadata": {},
   "source": [
    "### Make feature selection based on mutual information criteria"
   ]
  },
  {
   "cell_type": "markdown",
   "metadata": {},
   "source": [
    "We will use mutual information criteria, because we are dealing with categorical features mostly. <br>\n",
    "Because of stochastic nature of the algorithm we will use bootstrapping technique and calculate average result"
   ]
  },
  {
   "cell_type": "code",
   "execution_count": 51,
   "metadata": {},
   "outputs": [],
   "source": [
    "n_bootstrapers = 100\n",
    "\n",
    "bootstrap_results = list()\n",
    "for _ in range(n_bootstrapers):\n",
    "    fs = SelectKBest(score_func=mutual_info_classif, k='all')\n",
    "    fs.fit(X_train, y_train)\n",
    "    coef_dict = {feature: value for feature, value in zip(features, fs.scores_)}\n",
    "    bootstrap_results.append(coef_dict)\n",
    "    "
   ]
  },
  {
   "cell_type": "code",
   "execution_count": 52,
   "metadata": {},
   "outputs": [
    {
     "data": {
      "image/png": "[encoded data removed]",
      "text/plain": [
       "<Figure size 640x480 with 1 Axes>"
      ]
     },
     "metadata": {},
     "output_type": "display_data"
    }
   ],
   "source": [
    "avg_coefs = pd.DataFrame(bootstrap_results).mean().sort_values(ascending=False)\n",
    "\n",
    "sns.barplot(x=avg_coefs.head(20).index, y=avg_coefs.head(20).values)\n",
    "plt.xticks(rotation=70, fontsize=7)\n",
    "plt.title(f\"Top 20 features based on mutual information criteria\")\n",
    "plt.show()"
   ]
  },
  {
   "cell_type": "markdown",
   "metadata": {},
   "source": [
    "As expected, we can see that the most important features are distance from bell of target=1 numeric1 feature distribution and categorical0 feature. <br> <br> Let's see how the model will perform with reduced feature space "
   ]
  },
  {
   "cell_type": "code",
   "execution_count": 53,
   "metadata": {},
   "outputs": [
    {
     "data": {
      "text/plain": [
       "['dfm_scaled',\n",
       " 'categorical0_c',\n",
       " 'categorical0_b',\n",
       " 'numeric0_bins_(0.0, 1000.0]']"
      ]
     },
     "execution_count": 53,
     "metadata": {},
     "output_type": "execute_result"
    }
   ],
   "source": [
    "reduced_features = list(avg_coefs.head(4).index)\n",
    "reduced_features"
   ]
  },
  {
   "cell_type": "code",
   "execution_count": 54,
   "metadata": {},
   "outputs": [
    {
     "name": "stdout",
     "output_type": "stream",
     "text": [
      "precision: 0.328\n",
      "recall: 0.9761904761904762\n",
      "fscore: 0.4910179640718563\n",
      "roc auc: 0.8439304783698376\n",
      "TP=246, FP=504, TN=1244, FN=6\n"
     ]
    },
    {
     "data": {
      "text/html": [
       "<style>#sk-container-id-5 {color: black;background-color: white;}#sk-container-id-5 pre{padding: 0;}#sk-container-id-5 div.sk-toggleable {background-color: white;}#sk-container-id-5 label.sk-toggleable__label {cursor: pointer;display: block;width: 100%;margin-bottom: 0;padding: 0.3em;box-sizing: border-box;text-align: center;}#sk-container-id-5 label.sk-toggleable__label-arrow:before {content: \"▸\";float: left;margin-right: 0.25em;color: #696969;}#sk-container-id-5 label.sk-toggleable__label-arrow:hover:before {color: black;}#sk-container-id-5 div.sk-estimator:hover label.sk-toggleable__label-arrow:before {color: black;}#sk-container-id-5 div.sk-toggleable__content {max-height: 0;max-width: 0;overflow: hidden;text-align: left;background-color: #f0f8ff;}#sk-container-id-5 div.sk-toggleable__content pre {margin: 0.2em;color: black;border-radius: 0.25em;background-color: #f0f8ff;}#sk-container-id-5 input.sk-toggleable__control:checked~div.sk-toggleable__content {max-height: 200px;max-width: 100%;overflow: auto;}#sk-container-id-5 input.sk-toggleable__control:checked~label.sk-toggleable__label-arrow:before {content: \"▾\";}#sk-container-id-5 div.sk-estimator input.sk-toggleable__control:checked~label.sk-toggleable__label {background-color: #d4ebff;}#sk-container-id-5 div.sk-label input.sk-toggleable__control:checked~label.sk-toggleable__label {background-color: #d4ebff;}#sk-container-id-5 input.sk-hidden--visually {border: 0;clip: rect(1px 1px 1px 1px);clip: rect(1px, 1px, 1px, 1px);height: 1px;margin: -1px;overflow: hidden;padding: 0;position: absolute;width: 1px;}#sk-container-id-5 div.sk-estimator {font-family: monospace;background-color: #f0f8ff;border: 1px dotted black;border-radius: 0.25em;box-sizing: border-box;margin-bottom: 0.5em;}#sk-container-id-5 div.sk-estimator:hover {background-color: #d4ebff;}#sk-container-id-5 div.sk-parallel-item::after {content: \"\";width: 100%;border-bottom: 1px solid gray;flex-grow: 1;}#sk-container-id-5 div.sk-label:hover label.sk-toggleable__label {background-color: #d4ebff;}#sk-container-id-5 div.sk-serial::before {content: \"\";position: absolute;border-left: 1px solid gray;box-sizing: border-box;top: 0;bottom: 0;left: 50%;z-index: 0;}#sk-container-id-5 div.sk-serial {display: flex;flex-direction: column;align-items: center;background-color: white;padding-right: 0.2em;padding-left: 0.2em;position: relative;}#sk-container-id-5 div.sk-item {position: relative;z-index: 1;}#sk-container-id-5 div.sk-parallel {display: flex;align-items: stretch;justify-content: center;background-color: white;position: relative;}#sk-container-id-5 div.sk-item::before, #sk-container-id-5 div.sk-parallel-item::before {content: \"\";position: absolute;border-left: 1px solid gray;box-sizing: border-box;top: 0;bottom: 0;left: 50%;z-index: -1;}#sk-container-id-5 div.sk-parallel-item {display: flex;flex-direction: column;z-index: 1;position: relative;background-color: white;}#sk-container-id-5 div.sk-parallel-item:first-child::after {align-self: flex-end;width: 50%;}#sk-container-id-5 div.sk-parallel-item:last-child::after {align-self: flex-start;width: 50%;}#sk-container-id-5 div.sk-parallel-item:only-child::after {width: 0;}#sk-container-id-5 div.sk-dashed-wrapped {border: 1px dashed gray;margin: 0 0.4em 0.5em 0.4em;box-sizing: border-box;padding-bottom: 0.4em;background-color: white;}#sk-container-id-5 div.sk-label label {font-family: monospace;font-weight: bold;display: inline-block;line-height: 1.2em;}#sk-container-id-5 div.sk-label-container {text-align: center;}#sk-container-id-5 div.sk-container {/* jupyter's `normalize.less` sets `[hidden] { display: none; }` but bootstrap.min.css set `[hidden] { display: none !important; }` so we also need the `!important` here to be able to override the default hidden behavior on the sphinx rendered scikit-learn.org. See: https://github.com/scikit-learn/scikit-learn/issues/21755 */display: inline-block !important;position: relative;}#sk-container-id-5 div.sk-text-repr-fallback {display: none;}</style><div id=\"sk-container-id-5\" class=\"sk-top-container\"><div class=\"sk-text-repr-fallback\"><pre>LogisticRegression()</pre><b>In a Jupyter environment, please rerun this cell to show the HTML representation or trust the notebook. <br />On GitHub, the HTML representation is unable to render, please try loading this page with nbviewer.org.</b></div><div class=\"sk-container\" hidden><div class=\"sk-item\"><div class=\"sk-estimator sk-toggleable\"><input class=\"sk-toggleable__control sk-hidden--visually\" id=\"sk-estimator-id-5\" type=\"checkbox\" checked><label for=\"sk-estimator-id-5\" class=\"sk-toggleable__label sk-toggleable__label-arrow\">LogisticRegression</label><div class=\"sk-toggleable__content\"><pre>LogisticRegression()</pre></div></div></div></div></div>"
      ],
      "text/plain": [
       "LogisticRegression()"
      ]
     },
     "execution_count": 54,
     "metadata": {},
     "output_type": "execute_result"
    }
   ],
   "source": [
    "lr = LogisticRegression()\n",
    "train_and_score(model=lr, xtrain=X_train[reduced_features].values, ytrain=y_train.values, \n",
    "                xtest=X_test[reduced_features].values, ytest=y_test)"
   ]
  },
  {
   "cell_type": "code",
   "execution_count": 55,
   "metadata": {},
   "outputs": [
    {
     "data": {
      "text/plain": [
       "array([[-0.0697725 , -4.41914597, -4.44686388,  4.24187978]])"
      ]
     },
     "execution_count": 55,
     "metadata": {},
     "output_type": "execute_result"
    }
   ],
   "source": [
    "lr.coef_"
   ]
  },
  {
   "cell_type": "markdown",
   "metadata": {},
   "source": [
    "Feature space reducing didn't improve our model. <br> <br> Finally, let's try another family of algorithms - boosted trees - and look at its best solution in the optimal configuration"
   ]
  },
  {
   "cell_type": "markdown",
   "metadata": {},
   "source": [
    "## 6. Boosted model"
   ]
  },
  {
   "cell_type": "code",
   "execution_count": 56,
   "metadata": {},
   "outputs": [],
   "source": [
    "X_train, X_test, y_train, y_test = split_data(data=clean_data, n_train_samples=train_size)\n",
    "X_train, X_test = calculate_features(train=X_train, test=X_test)"
   ]
  },
  {
   "cell_type": "code",
   "execution_count": 57,
   "metadata": {},
   "outputs": [],
   "source": [
    "scale_coef = (y_train.shape[0] - y_train.sum()) / y_train.sum()\n",
    "\n",
    "params  = {'scale_pos_weight': [scale_coef/2, scale_coef, scale_coef * 1.5],\n",
    "           'depth'         : [4, 5, 6, 7, 8, 9, 10],\n",
    "           'learning_rate' : [0.0001, 0.001, 0.005, 0.01, 0.1, 0.2],\n",
    "           'n_estimators'    : [100, 400, 800, 1000],\n",
    "           'l2_leaf_reg': [2, 3, 4, 5, 6],\n",
    "          }"
   ]
  },
  {
   "cell_type": "code",
   "execution_count": 58,
   "metadata": {},
   "outputs": [
    {
     "data": {
      "text/plain": [
       "{'scale_pos_weight': [3.2105751391465676,\n",
       "  6.421150278293135,\n",
       "  9.631725417439704],\n",
       " 'depth': [4, 5, 6, 7, 8, 9, 10],\n",
       " 'learning_rate': [0.0001, 0.001, 0.005, 0.01, 0.1, 0.2],\n",
       " 'n_estimators': [100, 400, 800, 1000],\n",
       " 'l2_leaf_reg': [2, 3, 4, 5, 6]}"
      ]
     },
     "execution_count": 58,
     "metadata": {},
     "output_type": "execute_result"
    }
   ],
   "source": [
    "params"
   ]
  },
  {
   "cell_type": "code",
   "execution_count": 59,
   "metadata": {},
   "outputs": [],
   "source": [
    "cbc = CatBoostClassifier(verbose=False)\n",
    "grid_cbc = GridSearchCV(estimator=cbc, param_grid=params, scoring=\"roc_auc\", n_jobs=-1)"
   ]
  },
  {
   "cell_type": "code",
   "execution_count": 60,
   "metadata": {},
   "outputs": [],
   "source": [
    "# # TAKES A COUPLE OF HOURS\n",
    "\n",
    "# grid_cbc.fit(X_train[features].values, y_train)\n",
    "\n",
    "\n",
    "\n",
    "# # SPOILER ALERT:\n",
    "# # Results from Grid Search \n",
    "\n",
    "# #  The best estimator across ALL searched params:\n",
    "# #  <catboost.core.CatBoostClassifier object at 0x7f7e51a6b2b0>\n",
    "\n",
    "# #  The best score across ALL searched params:\n",
    "# #  0.8678858603143335\n",
    "\n",
    "# #  The best parameters across ALL searched params:\n",
    "# #  {'depth': 9, 'l2_leaf_reg': 3, 'learning_rate': 0.2, 'n_estimators': 100, 'scale_pos_weight': 3.2105751391465676}"
   ]
  },
  {
   "cell_type": "code",
   "execution_count": 61,
   "metadata": {},
   "outputs": [],
   "source": [
    "# print(\" Results from Grid Search \" )\n",
    "# print(\"\\n The best estimator across ALL searched params:\\n\",grid_cbc.best_estimator_)\n",
    "# print(\"\\n The best score across ALL searched params:\\n\",grid_cbc.best_score_)\n",
    "# print(\"\\n The best parameters across ALL searched params:\\n\",grid_cbc.best_params_)"
   ]
  },
  {
   "cell_type": "code",
   "execution_count": 62,
   "metadata": {},
   "outputs": [
    {
     "name": "stdout",
     "output_type": "stream",
     "text": [
      "precision: 0.33907056798623064\n",
      "recall: 0.7817460317460317\n",
      "fscore: 0.47298919567827136\n",
      "roc auc: 0.7810331989393774\n",
      "TP=197, FP=384, TN=1364, FN=55\n"
     ]
    },
    {
     "data": {
      "text/plain": [
       "<catboost.core.CatBoostClassifier at 0x7fe5341b3fa0>"
      ]
     },
     "execution_count": 62,
     "metadata": {},
     "output_type": "execute_result"
    }
   ],
   "source": [
    "catb = CatBoostClassifier(learning_rate=0.2, \n",
    "                          depth=9, \n",
    "                          l2_leaf_reg=3, \n",
    "                          n_estimators=100, \n",
    "                          scale_pos_weight=scale_coef/2, \n",
    "                          verbose=False)\n",
    "train_and_score(model=catb, xtrain=X_train[reduced_features].values, ytrain=y_train.values, \n",
    "                xtest=X_test[reduced_features].values, ytest=y_test)"
   ]
  },
  {
   "cell_type": "markdown",
   "metadata": {},
   "source": [
    "Long tree boosted model didn't give us a better model. We can conclude that from the current data with this set of features, we have squeezed out the maximum possible result"
   ]
  },
  {
   "cell_type": "markdown",
   "metadata": {},
   "source": [
    "# 7. Conclusion"
   ]
  },
  {
   "cell_type": "markdown",
   "metadata": {},
   "source": [
    "Our best model is the Logistic Regression model after the up-sampling. <br> <br> The model is extremly good at predicting positive class and rarely predicts them as negative ones - nearly 97% of accuracy in positive class predictions. <br> The only issue of this model is a slight sensitivity to the positive class, which leads to a not low, but generally acceptable quality of predicting the negative class - about 70% of accuracy. <br> 0.84 AUC-ROC value is a sign of a model with high generalization ability, especially on an anonymized dataset with a small number of features. <br> <br> Actually, interpretation of the results and further steps in analytics field is highly depends on business domain of the data. For example, if the cost of having mispredicted negative class is low, then we have a ready to go model!"
   ]
  },
  {
   "cell_type": "markdown",
   "metadata": {},
   "source": [
    "# 8. Next steps"
   ]
  },
  {
   "cell_type": "markdown",
   "metadata": {},
   "source": [
    "With more time for research what can we do next:\n",
    "1. More feature engineering - ignoring the fact of sparse time-series we have, we can extract some times-series components, such as trend and seasonality\n",
    "2. Different categorical encoding techniques (for example target frequencies calculation)\n",
    "3. Other model families (ensemble modelling, NN approaches)\n",
    "4. Collect more data"
   ]
  }
 ],
 "metadata": {
  "kernelspec": {
   "display_name": "Python 3 (ipykernel)",
   "language": "python",
   "name": "python3"
  },
  "language_info": {
   "codemirror_mode": {
    "name": "ipython",
    "version": 3
   },
   "file_extension": ".py",
   "mimetype": "text/x-python",
   "name": "python",
   "nbconvert_exporter": "python",
   "pygments_lexer": "ipython3",
   "version": "3.9.7"
  }
 },
 "nbformat": 4,
 "nbformat_minor": 1
}